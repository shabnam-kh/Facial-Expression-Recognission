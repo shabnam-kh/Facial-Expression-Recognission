{
  "cells": [
    {
      "cell_type": "code",
      "execution_count": null,
      "metadata": {
        "id": "tvWoHU1eBYpU",
        "colab": {
          "base_uri": "https://localhost:8080/"
        },
        "outputId": "e70995bd-e634-42f0-d2bc-b07b7c67ca09"
      },
      "outputs": [
        {
          "output_type": "stream",
          "name": "stdout",
          "text": [
            "Mounted at /content/drive\n"
          ]
        }
      ],
      "source": [
        "from google.colab import drive\n",
        "\n",
        "import numpy as np\n",
        "import pandas as pd\n",
        "import matplotlib.pyplot as plt\n",
        "from tqdm import tqdm\n",
        "\n",
        "import os, sys, re, pickle, glob\n",
        "import urllib.request\n",
        "import zipfile\n",
        "drive.mount('/content/drive')"
      ]
    },
    {
      "cell_type": "code",
      "execution_count": null,
      "metadata": {
        "id": "sZ_qSs-rJM5q"
      },
      "outputs": [],
      "source": [
        "import tensorflow as tf\n",
        "\n",
        "from tensorflow.keras import datasets, layers, models, optimizers\n",
        "import matplotlib.pyplot as plt\n",
        "\n",
        "import numpy as np\n",
        "\n",
        "%matplotlib inline"
      ]
    },
    {
      "cell_type": "markdown",
      "metadata": {
        "id": "fsrkZC_7nTnq"
      },
      "source": [
        "# **Manual Load Data**"
      ]
    },
    {
      "cell_type": "code",
      "execution_count": null,
      "metadata": {
        "id": "U7N3wGfAkaCr"
      },
      "outputs": [],
      "source": [
        "import numpy as np\n",
        "import os\n",
        "from keras.preprocessing.image import load_img\n",
        "from keras.preprocessing.image import img_to_array\n",
        "from keras.preprocessing.image import smart_resize\n",
        "from tqdm import tqdm\n",
        "\n",
        "classes_index = {'ANGER':0, 'FEAR':1, 'SURPRISE':2,'SADNESS':3, 'HAPPINESS':4, 'DISGUST':5}\n",
        "\n",
        "def prepare_image_data(data_dir, target_size, name_extend=''):\n",
        "  x = []\n",
        "  y = []\n",
        "  for key in tqdm(classes_index.keys()):\n",
        "      for _file in os.listdir(os.path.join(data_dir,key)):\n",
        "          filename = os.path.join(data_dir, key, _file)\n",
        "          image = load_img(filename)\n",
        "          frame_bgr = img_to_array(image)\n",
        "          ds = smart_resize(frame_bgr, target_size)\n",
        "          x.append(ds)\n",
        "          y.append(classes_index[key])\n",
        "\n",
        "  x = np.array(x)\n",
        "  x = x / 255.0\n",
        "  print(x.shape)\n",
        "  y = np.array(y)\n",
        "  print(y.shape)\n",
        "\n",
        "  with open('x_{}.pkl'.format(name_extend),'wb') as f:\n",
        "      pickle.dump(x, f)\n",
        "\n",
        "  with open('y_{}.pkl'.format(name_extend),'wb') as f:\n",
        "      pickle.dump(y, f)\n",
        "\n",
        "  return x,y"
      ]
    },
    {
      "cell_type": "markdown",
      "metadata": {
        "id": "7arri4rOnWIx"
      },
      "source": [
        "load pickle file"
      ]
    },
    {
      "cell_type": "code",
      "execution_count": null,
      "metadata": {
        "id": "i-Fvi5UElm6D"
      },
      "outputs": [],
      "source": [
        "import pickle\n",
        "\n",
        "def load_pickle(pickle_name):\n",
        "  dir = '/content/drive/MyDrive/data/pickle_images/{}'\n",
        "  with open(dir.format(pickle_name),'rb') as f:\n",
        "        return pickle.load(f)"
      ]
    },
    {
      "cell_type": "markdown",
      "metadata": {
        "id": "2QDmfLoH7d5C"
      },
      "source": [
        "load aligned train data"
      ]
    },
    {
      "cell_type": "code",
      "execution_count": null,
      "metadata": {
        "colab": {
          "base_uri": "https://localhost:8080/"
        },
        "id": "nSM4XesNwkAs",
        "outputId": "bcb110c3-1b0c-42b3-f642-e633727e6684"
      },
      "outputs": [
        {
          "output_type": "stream",
          "name": "stderr",
          "text": [
            "100%|██████████| 6/6 [10:00<00:00, 100.10s/it]\n"
          ]
        },
        {
          "output_type": "stream",
          "name": "stdout",
          "text": [
            "(32334, 96, 96, 3)\n",
            "(32334,)\n"
          ]
        }
      ],
      "source": [
        "\n",
        "data_dir = '/content/drive/MyDrive/data/aligned'\n",
        "target_image_size = (96, 96)\n",
        "\n",
        "x_align, y_align = prepare_image_data(data_dir, target_image_size, name_extend='align')"
      ]
    },
    {
      "cell_type": "markdown",
      "metadata": {
        "id": "R60qt4Kpma7N"
      },
      "source": [
        "load validation/test data"
      ]
    },
    {
      "cell_type": "code",
      "execution_count": null,
      "metadata": {
        "id": "X4GUh9KZmYZj",
        "colab": {
          "base_uri": "https://localhost:8080/"
        },
        "outputId": "d1bb3f0f-420f-4feb-9b26-eb198c89e7f7"
      },
      "outputs": [
        {
          "output_type": "stream",
          "name": "stderr",
          "text": [
            "100%|██████████| 6/6 [02:56<00:00, 29.44s/it]\n"
          ]
        },
        {
          "output_type": "stream",
          "name": "stdout",
          "text": [
            "(10861, 96, 96, 3)\n",
            "(10861,)\n"
          ]
        }
      ],
      "source": [
        "data_dir = '/content/drive/MyDrive/data/test'\n",
        "target_image_size = (96, 96)\n",
        "\n",
        "x_test, y_test = prepare_image_data(data_dir, target_image_size, name_extend='test')"
      ]
    },
    {
      "cell_type": "code",
      "execution_count": null,
      "metadata": {
        "id": "kd7NhBX0pF00"
      },
      "outputs": [],
      "source": [
        "x_align = load_pickle('x_align.pkl')\n",
        "y_align = load_pickle('y_align.pkl')"
      ]
    },
    {
      "cell_type": "code",
      "execution_count": null,
      "metadata": {
        "id": "zy0g6dr0dye6"
      },
      "outputs": [],
      "source": [
        "x = load_pickle('x_test.pkl')\n",
        "y = load_pickle('y_test.pkl')"
      ]
    },
    {
      "cell_type": "code",
      "execution_count": null,
      "metadata": {
        "id": "V_Ty5hyOdzWh"
      },
      "outputs": [],
      "source": [
        "x_prod = load_pickle('x_prod.pkl')\n",
        "y_prod = load_pickle('y_prod.pkl')"
      ]
    },
    {
      "cell_type": "code",
      "execution_count": null,
      "metadata": {
        "id": "Z90KiG4F3wAj"
      },
      "outputs": [],
      "source": [
        "print(x_test.shape, 'x_test')\n",
        "print(y_test.shape, 'y_test')"
      ]
    },
    {
      "cell_type": "code",
      "source": [
        "from sklearn.model_selection import train_test_split\n",
        "x_val, x_test, y_val, y_test = train_test_split(x, y, test_size = 0.5, random_state=42)"
      ],
      "metadata": {
        "id": "DH0JgfZhr_y4"
      },
      "execution_count": null,
      "outputs": []
    },
    {
      "cell_type": "code",
      "execution_count": null,
      "metadata": {
        "id": "A_tALzh7sp14",
        "colab": {
          "base_uri": "https://localhost:8080/"
        },
        "outputId": "4e5cd6bb-458b-4ca2-e32a-44702097f6ab"
      },
      "outputs": [
        {
          "output_type": "stream",
          "name": "stdout",
          "text": [
            "(5431, 32, 32, 3) x_val\n",
            "(5430, 32, 32, 3) x_test\n"
          ]
        }
      ],
      "source": [
        "print(x_test.shape, 'x_val')\n",
        "print(x_val.shape, 'x_test')"
      ]
    },
    {
      "cell_type": "code",
      "execution_count": null,
      "metadata": {
        "id": "bSxxRXyBanpJ"
      },
      "outputs": [],
      "source": [
        "from tensorflow.keras.models import Sequential\n",
        "from tensorflow.keras import layers\n",
        "\n",
        "img_augmentation = Sequential(\n",
        "    [\n",
        "        layers.RandomRotation(factor=0.15),\n",
        "        layers.RandomTranslation(height_factor=0.1, width_factor=0.1),\n",
        "        layers.RandomFlip(),\n",
        "        layers.RandomContrast(factor=0.1),\n",
        "    ],\n",
        "    name=\"img_augmentation\",\n",
        ")"
      ]
    },
    {
      "cell_type": "markdown",
      "metadata": {
        "id": "d2T0Dvz4pPo0"
      },
      "source": [
        "# **VGG model**"
      ]
    },
    {
      "cell_type": "code",
      "execution_count": null,
      "metadata": {
        "id": "qY2zBnsKu0bl",
        "colab": {
          "base_uri": "https://localhost:8080/"
        },
        "outputId": "1222b254-f948-4d27-8c7d-798e20540f8a"
      },
      "outputs": [
        {
          "output_type": "stream",
          "name": "stdout",
          "text": [
            "Model: \"model_2\"\n",
            "_________________________________________________________________\n",
            " Layer (type)                Output Shape              Param #   \n",
            "=================================================================\n",
            " input_6 (InputLayer)        [(None, 32, 32, 3)]       0         \n",
            "                                                                 \n",
            " block1_conv1 (Conv2D)       (None, 32, 32, 64)        1792      \n",
            "                                                                 \n",
            " block1_conv2 (Conv2D)       (None, 32, 32, 64)        36928     \n",
            "                                                                 \n",
            " block1_pool (MaxPooling2D)  (None, 16, 16, 64)        0         \n",
            "                                                                 \n",
            " block2_conv1 (Conv2D)       (None, 16, 16, 128)       73856     \n",
            "                                                                 \n",
            " block2_conv2 (Conv2D)       (None, 16, 16, 128)       147584    \n",
            "                                                                 \n",
            " block2_pool (MaxPooling2D)  (None, 8, 8, 128)         0         \n",
            "                                                                 \n",
            " block3_conv1 (Conv2D)       (None, 8, 8, 256)         295168    \n",
            "                                                                 \n",
            " block3_conv2 (Conv2D)       (None, 8, 8, 256)         590080    \n",
            "                                                                 \n",
            " block3_conv3 (Conv2D)       (None, 8, 8, 256)         590080    \n",
            "                                                                 \n",
            " block3_pool (MaxPooling2D)  (None, 4, 4, 256)         0         \n",
            "                                                                 \n",
            " block4_conv1 (Conv2D)       (None, 4, 4, 512)         1180160   \n",
            "                                                                 \n",
            " block4_conv2 (Conv2D)       (None, 4, 4, 512)         2359808   \n",
            "                                                                 \n",
            " block4_conv3 (Conv2D)       (None, 4, 4, 512)         2359808   \n",
            "                                                                 \n",
            " block4_pool (MaxPooling2D)  (None, 2, 2, 512)         0         \n",
            "                                                                 \n",
            " block5_conv1 (Conv2D)       (None, 2, 2, 512)         2359808   \n",
            "                                                                 \n",
            " block5_conv2 (Conv2D)       (None, 2, 2, 512)         2359808   \n",
            "                                                                 \n",
            " block5_conv3 (Conv2D)       (None, 2, 2, 512)         2359808   \n",
            "                                                                 \n",
            " block5_pool (MaxPooling2D)  (None, 1, 1, 512)         0         \n",
            "                                                                 \n",
            " flatten_2 (Flatten)         (None, 512)               0         \n",
            "                                                                 \n",
            " dense_6 (Dense)             (None, 8192)              4202496   \n",
            "                                                                 \n",
            " dropout_4 (Dropout)         (None, 8192)              0         \n",
            "                                                                 \n",
            " dense_7 (Dense)             (None, 8192)              67117056  \n",
            "                                                                 \n",
            " dropout_5 (Dropout)         (None, 8192)              0         \n",
            "                                                                 \n",
            " dense_8 (Dense)             (None, 6)                 49158     \n",
            "                                                                 \n",
            "=================================================================\n",
            "Total params: 86,083,398\n",
            "Trainable params: 71,368,710\n",
            "Non-trainable params: 14,714,688\n",
            "_________________________________________________________________\n"
          ]
        }
      ],
      "source": [
        "from keras.applications.vgg16 import VGG16\n",
        "from keras.models import Model\n",
        "from keras.callbacks import ModelCheckpoint\n",
        "from keras.layers import Dropout\n",
        "\n",
        "IMG_SIZE=32\n",
        "# load model without classifier layers\n",
        "# we are loading the pre-trained model weights from ImageNet which is a very large dataset annotated in terms of 1000 object categories\n",
        "inputs = layers.Input(shape=(IMG_SIZE, IMG_SIZE, 3))\n",
        "#x = img_augmentation(inputs)\n",
        "model = VGG16(include_top=False, weights=\"imagenet\", input_shape=(32, 32, 3))\n",
        "    \n",
        "### If we want to freeze these pretrained weights:\n",
        "\n",
        "for layer in model.layers:\n",
        "  layer.trainable = False     # mark loaded layers as not trainable\n",
        "\n",
        "# add new classifier layers\n",
        "flat1 = layers.Flatten()(model.layers[-1].output)\n",
        "fc1 = layers.Dense(8192, activation='relu')(flat1)\n",
        "dp1 = layers.Dropout(0.25)(fc1)\n",
        "fc2 = layers.Dense(8192, activation='relu')(dp1)\n",
        "dp2 = layers.Dropout(0.25)(fc2)\n",
        "#fc3 = layers.Dense(4096, activation='relu')(fc2)\n",
        "output = layers.Dense(6, activation='softmax')(dp2)\n",
        "\n",
        "\n",
        "# define new model\n",
        "model = Model(inputs=model.inputs, outputs=output)\n",
        "\n",
        "model.compile(optimizers.Adam(learning_rate=0.0001),\n",
        "              loss=tf.keras.losses.SparseCategoricalCrossentropy(),\n",
        "              metrics=['accuracy'])\n",
        "\n",
        "model.summary()\n",
        "\n",
        "filepath=\"weights-improvement-{epoch:02d}-{val_accuracy:.2f}.hdf5\"\n",
        "\n",
        "\n",
        "checkpoint = ModelCheckpoint(\n",
        "    filepath,\n",
        "    monitor='val_accuracy',\n",
        "    save_best_only=True,\n",
        "    mode='max',\n",
        "    verbose=1\n",
        ")"
      ]
    },
    {
      "cell_type": "code",
      "execution_count": null,
      "metadata": {
        "id": "TR-r7yES7WYb",
        "colab": {
          "base_uri": "https://localhost:8080/",
          "height": 1000
        },
        "outputId": "957db9a8-ffb8-4558-81cc-3ffd5e54ca7d"
      },
      "outputs": [
        {
          "output_type": "stream",
          "name": "stdout",
          "text": [
            "Epoch 1/30\n",
            "126/127 [============================>.] - ETA: 0s - loss: 0.7409 - accuracy: 0.7438\n",
            "Epoch 1: val_accuracy improved from -inf to 0.84917, saving model to weights-improvement-01-0.85.hdf5\n",
            "127/127 [==============================] - 14s 106ms/step - loss: 0.7403 - accuracy: 0.7441 - val_loss: 0.4646 - val_accuracy: 0.8492\n",
            "Epoch 2/30\n",
            "126/127 [============================>.] - ETA: 0s - loss: 0.4061 - accuracy: 0.8682\n",
            "Epoch 2: val_accuracy improved from 0.84917 to 0.86722, saving model to weights-improvement-02-0.87.hdf5\n",
            "127/127 [==============================] - 13s 102ms/step - loss: 0.4062 - accuracy: 0.8681 - val_loss: 0.3851 - val_accuracy: 0.8672\n",
            "Epoch 3/30\n",
            "126/127 [============================>.] - ETA: 0s - loss: 0.3062 - accuracy: 0.9019\n",
            "Epoch 3: val_accuracy improved from 0.86722 to 0.90534, saving model to weights-improvement-03-0.91.hdf5\n",
            "127/127 [==============================] - 13s 105ms/step - loss: 0.3060 - accuracy: 0.9020 - val_loss: 0.2982 - val_accuracy: 0.9053\n",
            "Epoch 4/30\n",
            "126/127 [============================>.] - ETA: 0s - loss: 0.2559 - accuracy: 0.9182\n",
            "Epoch 4: val_accuracy improved from 0.90534 to 0.91971, saving model to weights-improvement-04-0.92.hdf5\n",
            "127/127 [==============================] - 13s 104ms/step - loss: 0.2558 - accuracy: 0.9183 - val_loss: 0.2575 - val_accuracy: 0.9197\n",
            "Epoch 5/30\n",
            "126/127 [============================>.] - ETA: 0s - loss: 0.2178 - accuracy: 0.9303\n",
            "Epoch 5: val_accuracy improved from 0.91971 to 0.91989, saving model to weights-improvement-05-0.92.hdf5\n",
            "127/127 [==============================] - 13s 104ms/step - loss: 0.2180 - accuracy: 0.9301 - val_loss: 0.2552 - val_accuracy: 0.9199\n",
            "Epoch 6/30\n",
            "126/127 [============================>.] - ETA: 0s - loss: 0.1839 - accuracy: 0.9421\n",
            "Epoch 6: val_accuracy improved from 0.91989 to 0.92928, saving model to weights-improvement-06-0.93.hdf5\n",
            "127/127 [==============================] - 13s 105ms/step - loss: 0.1836 - accuracy: 0.9422 - val_loss: 0.2268 - val_accuracy: 0.9293\n",
            "Epoch 7/30\n",
            "126/127 [============================>.] - ETA: 0s - loss: 0.1567 - accuracy: 0.9499\n",
            "Epoch 7: val_accuracy improved from 0.92928 to 0.93849, saving model to weights-improvement-07-0.94.hdf5\n",
            "127/127 [==============================] - 13s 104ms/step - loss: 0.1569 - accuracy: 0.9498 - val_loss: 0.1945 - val_accuracy: 0.9385\n",
            "Epoch 8/30\n",
            "126/127 [============================>.] - ETA: 0s - loss: 0.1377 - accuracy: 0.9560\n",
            "Epoch 8: val_accuracy improved from 0.93849 to 0.94144, saving model to weights-improvement-08-0.94.hdf5\n",
            "127/127 [==============================] - 13s 104ms/step - loss: 0.1379 - accuracy: 0.9559 - val_loss: 0.1840 - val_accuracy: 0.9414\n",
            "Epoch 9/30\n",
            "126/127 [============================>.] - ETA: 0s - loss: 0.1160 - accuracy: 0.9640\n",
            "Epoch 9: val_accuracy improved from 0.94144 to 0.94641, saving model to weights-improvement-09-0.95.hdf5\n",
            "127/127 [==============================] - 13s 104ms/step - loss: 0.1163 - accuracy: 0.9640 - val_loss: 0.1747 - val_accuracy: 0.9464\n",
            "Epoch 10/30\n",
            "126/127 [============================>.] - ETA: 0s - loss: 0.1030 - accuracy: 0.9675\n",
            "Epoch 10: val_accuracy did not improve from 0.94641\n",
            "127/127 [==============================] - 10s 78ms/step - loss: 0.1031 - accuracy: 0.9673 - val_loss: 0.1684 - val_accuracy: 0.9460\n",
            "Epoch 11/30\n",
            "126/127 [============================>.] - ETA: 0s - loss: 0.0956 - accuracy: 0.9710\n",
            "Epoch 11: val_accuracy did not improve from 0.94641\n",
            "127/127 [==============================] - 10s 78ms/step - loss: 0.0955 - accuracy: 0.9711 - val_loss: 0.1721 - val_accuracy: 0.9455\n",
            "Epoch 12/30\n",
            "126/127 [============================>.] - ETA: 0s - loss: 0.0805 - accuracy: 0.9758\n",
            "Epoch 12: val_accuracy improved from 0.94641 to 0.95451, saving model to weights-improvement-12-0.95.hdf5\n",
            "127/127 [==============================] - 13s 104ms/step - loss: 0.0807 - accuracy: 0.9757 - val_loss: 0.1481 - val_accuracy: 0.9545\n",
            "Epoch 13/30\n",
            "126/127 [============================>.] - ETA: 0s - loss: 0.0757 - accuracy: 0.9759\n",
            "Epoch 13: val_accuracy did not improve from 0.95451\n",
            "127/127 [==============================] - 10s 77ms/step - loss: 0.0757 - accuracy: 0.9759 - val_loss: 0.1498 - val_accuracy: 0.9536\n",
            "Epoch 14/30\n",
            "126/127 [============================>.] - ETA: 0s - loss: 0.0659 - accuracy: 0.9800\n",
            "Epoch 14: val_accuracy improved from 0.95451 to 0.95856, saving model to weights-improvement-14-0.96.hdf5\n",
            "127/127 [==============================] - 13s 103ms/step - loss: 0.0661 - accuracy: 0.9800 - val_loss: 0.1393 - val_accuracy: 0.9586\n",
            "Epoch 15/30\n",
            "126/127 [============================>.] - ETA: 0s - loss: 0.0543 - accuracy: 0.9837\n",
            "Epoch 15: val_accuracy did not improve from 0.95856\n",
            "127/127 [==============================] - 10s 77ms/step - loss: 0.0544 - accuracy: 0.9836 - val_loss: 0.1600 - val_accuracy: 0.9525\n",
            "Epoch 16/30\n",
            "126/127 [============================>.] - ETA: 0s - loss: 0.0536 - accuracy: 0.9834\n",
            "Epoch 16: val_accuracy did not improve from 0.95856\n",
            "127/127 [==============================] - 10s 77ms/step - loss: 0.0535 - accuracy: 0.9835 - val_loss: 0.1872 - val_accuracy: 0.9444\n",
            "Epoch 17/30\n",
            "126/127 [============================>.] - ETA: 0s - loss: 0.0475 - accuracy: 0.9855\n",
            "Epoch 17: val_accuracy did not improve from 0.95856\n",
            "127/127 [==============================] - 10s 78ms/step - loss: 0.0474 - accuracy: 0.9855 - val_loss: 0.1499 - val_accuracy: 0.9578\n",
            "Epoch 18/30\n",
            "126/127 [============================>.] - ETA: 0s - loss: 0.0424 - accuracy: 0.9875\n",
            "Epoch 18: val_accuracy improved from 0.95856 to 0.96188, saving model to weights-improvement-18-0.96.hdf5\n",
            "127/127 [==============================] - 13s 104ms/step - loss: 0.0425 - accuracy: 0.9875 - val_loss: 0.1385 - val_accuracy: 0.9619\n",
            "Epoch 19/30\n",
            "126/127 [============================>.] - ETA: 0s - loss: 0.0408 - accuracy: 0.9870\n",
            "Epoch 19: val_accuracy did not improve from 0.96188\n",
            "127/127 [==============================] - 10s 77ms/step - loss: 0.0409 - accuracy: 0.9869 - val_loss: 0.1636 - val_accuracy: 0.9529\n",
            "Epoch 20/30\n",
            "126/127 [============================>.] - ETA: 0s - loss: 0.0451 - accuracy: 0.9849\n",
            "Epoch 20: val_accuracy did not improve from 0.96188\n",
            "127/127 [==============================] - 10s 78ms/step - loss: 0.0451 - accuracy: 0.9849 - val_loss: 0.1605 - val_accuracy: 0.9599\n",
            "Epoch 21/30\n",
            "126/127 [============================>.] - ETA: 0s - loss: 0.0325 - accuracy: 0.9903\n",
            "Epoch 21: val_accuracy did not improve from 0.96188\n",
            "127/127 [==============================] - 10s 77ms/step - loss: 0.0326 - accuracy: 0.9903 - val_loss: 0.1449 - val_accuracy: 0.9611\n",
            "Epoch 22/30\n",
            "126/127 [============================>.] - ETA: 0s - loss: 0.0289 - accuracy: 0.9911\n",
            "Epoch 22: val_accuracy did not improve from 0.96188\n",
            "127/127 [==============================] - 10s 78ms/step - loss: 0.0289 - accuracy: 0.9911 - val_loss: 0.1575 - val_accuracy: 0.9586\n",
            "Epoch 23/30\n",
            "126/127 [============================>.] - ETA: 0s - loss: 0.0267 - accuracy: 0.9917\n",
            "Epoch 23: val_accuracy did not improve from 0.96188\n",
            "127/127 [==============================] - 10s 78ms/step - loss: 0.0268 - accuracy: 0.9916 - val_loss: 0.1555 - val_accuracy: 0.9617\n",
            "Epoch 24/30\n",
            "126/127 [============================>.] - ETA: 0s - loss: 0.0260 - accuracy: 0.9924\n",
            "Epoch 24: val_accuracy did not improve from 0.96188\n",
            "127/127 [==============================] - 10s 77ms/step - loss: 0.0261 - accuracy: 0.9924 - val_loss: 0.1778 - val_accuracy: 0.9549\n",
            "Epoch 25/30\n",
            "126/127 [============================>.] - ETA: 0s - loss: 0.0263 - accuracy: 0.9916\n",
            "Epoch 25: val_accuracy did not improve from 0.96188\n",
            "127/127 [==============================] - 10s 77ms/step - loss: 0.0263 - accuracy: 0.9916 - val_loss: 0.1595 - val_accuracy: 0.9615\n",
            "Epoch 26/30\n",
            "126/127 [============================>.] - ETA: 0s - loss: 0.0214 - accuracy: 0.9936\n",
            "Epoch 26: val_accuracy improved from 0.96188 to 0.96225, saving model to weights-improvement-26-0.96.hdf5\n",
            "127/127 [==============================] - 13s 104ms/step - loss: 0.0215 - accuracy: 0.9936 - val_loss: 0.1545 - val_accuracy: 0.9622\n",
            "Epoch 27/30\n",
            "126/127 [============================>.] - ETA: 0s - loss: 0.0244 - accuracy: 0.9927\n",
            "Epoch 27: val_accuracy did not improve from 0.96225\n",
            "127/127 [==============================] - 10s 77ms/step - loss: 0.0244 - accuracy: 0.9926 - val_loss: 0.1602 - val_accuracy: 0.9617\n",
            "Epoch 28/30\n",
            "126/127 [============================>.] - ETA: 0s - loss: 0.0192 - accuracy: 0.9945\n",
            "Epoch 28: val_accuracy did not improve from 0.96225\n",
            "127/127 [==============================] - 10s 77ms/step - loss: 0.0192 - accuracy: 0.9945 - val_loss: 0.1683 - val_accuracy: 0.9608\n",
            "Epoch 29/30\n",
            "126/127 [============================>.] - ETA: 0s - loss: 0.0201 - accuracy: 0.9935\n",
            "Epoch 29: val_accuracy did not improve from 0.96225\n",
            "127/127 [==============================] - 10s 77ms/step - loss: 0.0201 - accuracy: 0.9935 - val_loss: 0.1611 - val_accuracy: 0.9610\n",
            "Epoch 30/30\n",
            "126/127 [============================>.] - ETA: 0s - loss: 0.0239 - accuracy: 0.9926\n",
            "Epoch 30: val_accuracy did not improve from 0.96225\n",
            "127/127 [==============================] - 10s 78ms/step - loss: 0.0240 - accuracy: 0.9925 - val_loss: 0.1800 - val_accuracy: 0.9573\n",
            "170/170 - 2s - loss: 0.1866 - accuracy: 0.9580 - 2s/epoch - 10ms/step\n",
            "0.9580187797546387\n"
          ]
        },
        {
          "output_type": "display_data",
          "data": {
            "text/plain": [
              "<Figure size 432x288 with 1 Axes>"
            ],
            "image/png": "[encoded data removed]"
          },
          "metadata": {
            "needs_background": "light"
          }
        }
      ],
      "source": [
        "# Training\n",
        "num_epochs=30\n",
        "batch_size=256\n",
        "\n",
        "\n",
        "history = model.fit(x_align,y_align, epochs=num_epochs, batch_size=batch_size,\n",
        "                    validation_data=(x_val,y_val), callbacks=[checkpoint], shuffle=True)\n",
        "\"\"\"\n",
        "history = model.fit_generator(\n",
        "    train_generator,\n",
        "    epochs=num_epochs,\n",
        "    steps_per_epoch=steps_per_epoch,\n",
        "    validation_data=validation_generator,\n",
        "    validation_steps=validation_steps,\n",
        "    max_queue_size=1,\n",
        "    shuffle=True,\n",
        "    callbacks=[checkpoint],\n",
        "    verbose=1\n",
        ")\n",
        "\"\"\"\n",
        "# Validation\n",
        "plt.plot(history.history['accuracy'], label='accuracy')\n",
        "plt.plot(history.history['val_accuracy'], label = 'val_accuracy')\n",
        "plt.xlabel('Epoch')\n",
        "plt.ylabel('Accuracy')\n",
        "plt.ylim([0.3, 1])\n",
        "plt.legend(loc='lower right')\n",
        "\n",
        "test_loss, test_acc = model.evaluate(x_test, y_test, verbose=2)\n",
        "\n",
        "print(test_acc)"
      ]
    },
    {
      "cell_type": "markdown",
      "metadata": {
        "id": "-wm0-F_NnDTG"
      },
      "source": [
        "# **data loader**"
      ]
    },
    {
      "cell_type": "code",
      "execution_count": null,
      "metadata": {
        "id": "VX-zH4QNomy8",
        "colab": {
          "base_uri": "https://localhost:8080/"
        },
        "outputId": "5f85c685-5795-4ba5-f592-dcae14b63116"
      },
      "outputs": [
        {
          "output_type": "stream",
          "name": "stdout",
          "text": [
            "Found 32334 images belonging to 6 classes.\n",
            "Found 10861 images belonging to 6 classes.\n"
          ]
        }
      ],
      "source": [
        "from tensorflow.keras.preprocessing.image import ImageDataGenerator\n",
        "\n",
        "img_size = 32\n",
        "batch_size = 128\n",
        "\n",
        "train_dir = '/content/drive/MyDrive/data/aligned'\n",
        "datagen_train = ImageDataGenerator(rescale=1./255)\n",
        "\n",
        "train_generator = datagen_train.flow_from_directory(train_dir,\n",
        "                  target_size = (img_size,img_size),\n",
        "                  color_mode='rgb',\n",
        "                  class_mode='sparse',\n",
        "                  batch_size=batch_size,shuffle= True)\n",
        "\n",
        "test_dir = '/content/drive/MyDrive/data/test'\n",
        "datagen_validation = ImageDataGenerator(rescale=1./255)\n",
        "validation_generator = datagen_validation.flow_from_directory(test_dir,\n",
        "                        target_size = (img_size,img_size),\n",
        "                        color_mode='rgb',\n",
        "                        class_mode='sparse',\n",
        "                        batch_size=batch_size,shuffle= True)"
      ]
    },
    {
      "cell_type": "code",
      "execution_count": null,
      "metadata": {
        "id": "eHAiEDhK3f69",
        "colab": {
          "base_uri": "https://localhost:8080/"
        },
        "outputId": "0ba0211b-7718-4bb4-caff-ea9716339566"
      },
      "outputs": [
        {
          "output_type": "stream",
          "name": "stdout",
          "text": [
            "Found 26143 images belonging to 6 classes.\n"
          ]
        }
      ],
      "source": [
        "prod_dir = '/content/drive/MyDrive/data/FER_prod_data/assignment_2_MLD_qmul'\n",
        "datagen_prod = ImageDataGenerator(rescale=1./255)\n",
        "prod_generator = datagen_prod.flow_from_directory(prod_dir,\n",
        "                        target_size = (img_size,img_size),\n",
        "                        color_mode='rgb',\n",
        "                        batch_size=batch_size,\n",
        "                        class_mode='sparse',shuffle= True)"
      ]
    },
    {
      "cell_type": "code",
      "execution_count": null,
      "metadata": {
        "id": "fKqM51YrCLP6",
        "colab": {
          "base_uri": "https://localhost:8080/"
        },
        "outputId": "0af19c46-646c-4188-9430-fd5ba6ceff02"
      },
      "outputs": [
        {
          "output_type": "stream",
          "name": "stdout",
          "text": [
            "(256, 32, 32, 3) (256,)\n"
          ]
        }
      ],
      "source": [
        "for x,y in train_generator:\n",
        "  print(x.shape, y.shape)\n",
        "  break"
      ]
    },
    {
      "cell_type": "code",
      "source": [
        "print(y[1:10])"
      ],
      "metadata": {
        "colab": {
          "base_uri": "https://localhost:8080/"
        },
        "id": "jjAZcVA39w8v",
        "outputId": "23a711a9-30f3-4cc0-d449-d25b3f6eefad"
      },
      "execution_count": null,
      "outputs": [
        {
          "output_type": "stream",
          "name": "stdout",
          "text": [
            "[4. 5. 0. 3. 5. 0. 5. 0. 4.]\n"
          ]
        }
      ]
    },
    {
      "cell_type": "code",
      "source": [
        "print(type(y[0]))"
      ],
      "metadata": {
        "colab": {
          "base_uri": "https://localhost:8080/"
        },
        "id": "ZO-MuWv7M0FN",
        "outputId": "1e7a68c0-38a5-4236-fc34-c59e094da734"
      },
      "execution_count": null,
      "outputs": [
        {
          "output_type": "stream",
          "name": "stdout",
          "text": [
            "<class 'numpy.float32'>\n"
          ]
        }
      ]
    },
    {
      "cell_type": "markdown",
      "metadata": {
        "id": "7ZZtbYD1QXmV"
      },
      "source": [
        "# **Task2**"
      ]
    },
    {
      "cell_type": "code",
      "execution_count": null,
      "metadata": {
        "id": "w7mQAn8_hIr0"
      },
      "outputs": [],
      "source": [
        "from tensorflow.keras.layers import Dense, Input, Dropout,Flatten, Conv2D\n",
        "from tensorflow.keras.layers import BatchNormalization, Activation, MaxPooling2D\n",
        "from tensorflow.keras.models import Model, Sequential\n",
        "from tensorflow.keras.optimizers import Adam\n",
        "from keras.applications.mobilenet_v2 import MobileNetV2\n",
        "from keras.callbacks import ModelCheckpoint"
      ]
    },
    {
      "cell_type": "code",
      "execution_count": null,
      "metadata": {
        "id": "LIc-r9SMO4NL"
      },
      "outputs": [],
      "source": [
        "n_classes=6\n",
        "mobilenetv2 = MobileNetV2(input_shape=(32, 32, 3), alpha=1, weights='imagenet', include_top=False, classes=n_classes)\n",
        "\n",
        "for layer in mobilenetv2.layers:\n",
        "  layer.trainable = False\n",
        "\n",
        "x = mobilenetv2.layers[-1].output\n",
        "\n",
        "final_output = layers.Dense(128)(x) \n",
        "final_output = layers.Activation('relu')(final_output) \n",
        "final_output = layers.Dense(64)(final_output) \n",
        "final_output = layers.Activation('relu')(final_output) \n",
        "final_output = layers.Dense(n_classes, activation='softmax')(final_output) \n",
        "\n",
        "model = Model(inputs=mobilenetv2.layers[0].output,outputs=final_output)\n",
        "\n",
        "model.compile(optimizers.Adam(learning_rate=0.0001),\n",
        "              loss=tf.keras.losses.SparseCategoricalCrossentropy(from_logits=False),\n",
        "              metrics=['accuracy'])\n",
        "print(model.summary())"
      ]
    },
    {
      "cell_type": "code",
      "execution_count": null,
      "metadata": {
        "id": "AT2yMYEZPZIY",
        "colab": {
          "base_uri": "https://localhost:8080/",
          "height": 1000
        },
        "outputId": "a25962d0-0361-4e7d-e663-3b377ce307cc"
      },
      "outputs": [
        {
          "output_type": "stream",
          "name": "stdout",
          "text": [
            "Epoch 1/30\n",
            "127/127 [==============================] - ETA: 0s - loss: 1.7045 - accuracy: 0.2989\n",
            "Epoch 1: val_accuracy improved from -inf to 0.29962, saving model to weights-improvement-01-0.30.hdf5\n",
            "127/127 [==============================] - 48s 39ms/step - loss: 1.7045 - accuracy: 0.2989 - val_loss: 1.6082 - val_accuracy: 0.2996\n",
            "Epoch 2/30\n",
            "126/127 [============================>.] - ETA: 0s - loss: 1.5441 - accuracy: 0.2836\n",
            "Epoch 2: val_accuracy did not improve from 0.29962\n",
            "127/127 [==============================] - 3s 24ms/step - loss: 1.5441 - accuracy: 0.2836 - val_loss: 1.4814 - val_accuracy: 0.2815\n",
            "Epoch 3/30\n",
            "125/127 [============================>.] - ETA: 0s - loss: 1.4518 - accuracy: 0.2581\n",
            "Epoch 3: val_accuracy did not improve from 0.29962\n",
            "127/127 [==============================] - 3s 24ms/step - loss: 1.4513 - accuracy: 0.2580 - val_loss: 1.4202 - val_accuracy: 0.2420\n",
            "Epoch 4/30\n",
            "126/127 [============================>.] - ETA: 0s - loss: 1.4033 - accuracy: 0.2367\n",
            "Epoch 4: val_accuracy did not improve from 0.29962\n",
            "127/127 [==============================] - 3s 24ms/step - loss: 1.4034 - accuracy: 0.2367 - val_loss: 1.3842 - val_accuracy: 0.2384\n",
            "Epoch 5/30\n",
            "127/127 [==============================] - ETA: 0s - loss: 1.3727 - accuracy: 0.2340\n",
            "Epoch 5: val_accuracy did not improve from 0.29962\n",
            "127/127 [==============================] - 3s 23ms/step - loss: 1.3727 - accuracy: 0.2340 - val_loss: 1.3603 - val_accuracy: 0.2373\n",
            "Epoch 6/30\n",
            "127/127 [==============================] - ETA: 0s - loss: 1.3505 - accuracy: 0.2333\n",
            "Epoch 6: val_accuracy did not improve from 0.29962\n",
            "127/127 [==============================] - 3s 24ms/step - loss: 1.3505 - accuracy: 0.2333 - val_loss: 1.3421 - val_accuracy: 0.2356\n",
            "Epoch 7/30\n",
            "127/127 [==============================] - ETA: 0s - loss: 1.3329 - accuracy: 0.2323\n",
            "Epoch 7: val_accuracy did not improve from 0.29962\n",
            "127/127 [==============================] - 3s 24ms/step - loss: 1.3329 - accuracy: 0.2323 - val_loss: 1.3266 - val_accuracy: 0.2349\n",
            "Epoch 8/30\n",
            "126/127 [============================>.] - ETA: 0s - loss: 1.3175 - accuracy: 0.2312\n",
            "Epoch 8: val_accuracy did not improve from 0.29962\n",
            "127/127 [==============================] - 3s 24ms/step - loss: 1.3176 - accuracy: 0.2312 - val_loss: 1.3130 - val_accuracy: 0.2340\n",
            "Epoch 9/30\n",
            "127/127 [==============================] - ETA: 0s - loss: 1.3035 - accuracy: 0.2308\n",
            "Epoch 9: val_accuracy did not improve from 0.29962\n",
            "127/127 [==============================] - 3s 24ms/step - loss: 1.3035 - accuracy: 0.2308 - val_loss: 1.3004 - val_accuracy: 0.2337\n",
            "Epoch 10/30\n",
            "127/127 [==============================] - ETA: 0s - loss: 1.2911 - accuracy: 0.2301\n",
            "Epoch 10: val_accuracy did not improve from 0.29962\n",
            "127/127 [==============================] - 3s 24ms/step - loss: 1.2911 - accuracy: 0.2301 - val_loss: 1.2891 - val_accuracy: 0.2324\n",
            "Epoch 11/30\n",
            "127/127 [==============================] - ETA: 0s - loss: 1.2797 - accuracy: 0.2297\n",
            "Epoch 11: val_accuracy did not improve from 0.29962\n",
            "127/127 [==============================] - 3s 23ms/step - loss: 1.2797 - accuracy: 0.2297 - val_loss: 1.2788 - val_accuracy: 0.2318\n",
            "Epoch 12/30\n",
            "126/127 [============================>.] - ETA: 0s - loss: 1.2693 - accuracy: 0.2294\n",
            "Epoch 12: val_accuracy did not improve from 0.29962\n",
            "127/127 [==============================] - 3s 24ms/step - loss: 1.2695 - accuracy: 0.2294 - val_loss: 1.2696 - val_accuracy: 0.2320\n",
            "Epoch 13/30\n",
            "126/127 [============================>.] - ETA: 0s - loss: 1.2602 - accuracy: 0.2292\n",
            "Epoch 13: val_accuracy did not improve from 0.29962\n",
            "127/127 [==============================] - 3s 24ms/step - loss: 1.2603 - accuracy: 0.2292 - val_loss: 1.2619 - val_accuracy: 0.2307\n",
            "Epoch 14/30\n",
            "125/127 [============================>.] - ETA: 0s - loss: 1.2524 - accuracy: 0.2287\n",
            "Epoch 14: val_accuracy did not improve from 0.29962\n",
            "127/127 [==============================] - 3s 24ms/step - loss: 1.2520 - accuracy: 0.2287 - val_loss: 1.2543 - val_accuracy: 0.2314\n",
            "Epoch 15/30\n",
            "126/127 [============================>.] - ETA: 0s - loss: 1.2441 - accuracy: 0.2286\n",
            "Epoch 15: val_accuracy did not improve from 0.29962\n",
            "127/127 [==============================] - 3s 24ms/step - loss: 1.2445 - accuracy: 0.2286 - val_loss: 1.2482 - val_accuracy: 0.2299\n",
            "Epoch 16/30\n",
            "127/127 [==============================] - ETA: 0s - loss: 1.2377 - accuracy: 0.2274\n",
            "Epoch 16: val_accuracy did not improve from 0.29962\n",
            "127/127 [==============================] - 3s 24ms/step - loss: 1.2377 - accuracy: 0.2274 - val_loss: 1.2412 - val_accuracy: 0.2303\n",
            "Epoch 17/30\n",
            "127/127 [==============================] - ETA: 0s - loss: 1.2314 - accuracy: 0.2275\n",
            "Epoch 17: val_accuracy did not improve from 0.29962\n",
            "127/127 [==============================] - 3s 24ms/step - loss: 1.2314 - accuracy: 0.2275 - val_loss: 1.2355 - val_accuracy: 0.2298\n",
            "Epoch 18/30\n",
            "127/127 [==============================] - ETA: 0s - loss: 1.2256 - accuracy: 0.2272\n",
            "Epoch 18: val_accuracy did not improve from 0.29962\n",
            "127/127 [==============================] - 3s 24ms/step - loss: 1.2256 - accuracy: 0.2272 - val_loss: 1.2318 - val_accuracy: 0.2308\n",
            "Epoch 19/30\n",
            "125/127 [============================>.] - ETA: 0s - loss: 1.2196 - accuracy: 0.2271\n",
            "Epoch 19: val_accuracy did not improve from 0.29962\n",
            "127/127 [==============================] - 3s 24ms/step - loss: 1.2204 - accuracy: 0.2271 - val_loss: 1.2269 - val_accuracy: 0.2317\n",
            "Epoch 20/30\n",
            "127/127 [==============================] - ETA: 0s - loss: 1.2153 - accuracy: 0.2270\n",
            "Epoch 20: val_accuracy did not improve from 0.29962\n",
            "127/127 [==============================] - 3s 24ms/step - loss: 1.2153 - accuracy: 0.2270 - val_loss: 1.2236 - val_accuracy: 0.2295\n",
            "Epoch 21/30\n",
            "126/127 [============================>.] - ETA: 0s - loss: 1.2110 - accuracy: 0.2270\n",
            "Epoch 21: val_accuracy did not improve from 0.29962\n",
            "127/127 [==============================] - 3s 23ms/step - loss: 1.2109 - accuracy: 0.2270 - val_loss: 1.2187 - val_accuracy: 0.2282\n",
            "Epoch 22/30\n",
            "126/127 [============================>.] - ETA: 0s - loss: 1.2064 - accuracy: 0.2264\n",
            "Epoch 22: val_accuracy did not improve from 0.29962\n",
            "127/127 [==============================] - 3s 23ms/step - loss: 1.2066 - accuracy: 0.2264 - val_loss: 1.2152 - val_accuracy: 0.2310\n",
            "Epoch 23/30\n",
            "127/127 [==============================] - ETA: 0s - loss: 1.2023 - accuracy: 0.2268\n",
            "Epoch 23: val_accuracy did not improve from 0.29962\n",
            "127/127 [==============================] - 3s 23ms/step - loss: 1.2023 - accuracy: 0.2268 - val_loss: 1.2105 - val_accuracy: 0.2298\n",
            "Epoch 24/30\n",
            "127/127 [==============================] - ETA: 0s - loss: 1.1985 - accuracy: 0.2270\n",
            "Epoch 24: val_accuracy did not improve from 0.29962\n",
            "127/127 [==============================] - 3s 23ms/step - loss: 1.1985 - accuracy: 0.2270 - val_loss: 1.2077 - val_accuracy: 0.2296\n",
            "Epoch 25/30\n",
            "127/127 [==============================] - ETA: 0s - loss: 1.1950 - accuracy: 0.2271\n",
            "Epoch 25: val_accuracy did not improve from 0.29962\n",
            "127/127 [==============================] - 3s 23ms/step - loss: 1.1950 - accuracy: 0.2271 - val_loss: 1.2066 - val_accuracy: 0.2270\n",
            "Epoch 26/30\n",
            "127/127 [==============================] - ETA: 0s - loss: 1.1914 - accuracy: 0.2267\n",
            "Epoch 26: val_accuracy did not improve from 0.29962\n",
            "127/127 [==============================] - 3s 23ms/step - loss: 1.1914 - accuracy: 0.2267 - val_loss: 1.2027 - val_accuracy: 0.2295\n",
            "Epoch 27/30\n",
            "127/127 [==============================] - ETA: 0s - loss: 1.1884 - accuracy: 0.2271\n",
            "Epoch 27: val_accuracy did not improve from 0.29962\n",
            "127/127 [==============================] - 3s 23ms/step - loss: 1.1884 - accuracy: 0.2271 - val_loss: 1.1996 - val_accuracy: 0.2299\n",
            "Epoch 28/30\n",
            "127/127 [==============================] - ETA: 0s - loss: 1.1850 - accuracy: 0.2269\n",
            "Epoch 28: val_accuracy did not improve from 0.29962\n",
            "127/127 [==============================] - 3s 23ms/step - loss: 1.1850 - accuracy: 0.2269 - val_loss: 1.1967 - val_accuracy: 0.2297\n",
            "Epoch 29/30\n",
            "126/127 [============================>.] - ETA: 0s - loss: 1.1818 - accuracy: 0.2269\n",
            "Epoch 29: val_accuracy did not improve from 0.29962\n",
            "127/127 [==============================] - 3s 23ms/step - loss: 1.1819 - accuracy: 0.2269 - val_loss: 1.1954 - val_accuracy: 0.2295\n",
            "Epoch 30/30\n",
            "124/127 [============================>.] - ETA: 0s - loss: 1.1783 - accuracy: 0.2274\n",
            "Epoch 30: val_accuracy did not improve from 0.29962\n",
            "127/127 [==============================] - 3s 23ms/step - loss: 1.1791 - accuracy: 0.2271 - val_loss: 1.1930 - val_accuracy: 0.2286\n",
            "170/170 - 2s - loss: 1.2036 - accuracy: 0.2333 - 2s/epoch - 10ms/step\n",
            "0.2333150953054428\n"
          ]
        },
        {
          "output_type": "display_data",
          "data": {
            "text/plain": [
              "<Figure size 432x288 with 1 Axes>"
            ],
            "image/png": "[encoded data removed]"
          },
          "metadata": {
            "needs_background": "light"
          }
        }
      ],
      "source": [
        "input_shape=(32,32,3)\n",
        "num_epochs=30\n",
        "batch_size=256\n",
        "\n",
        "\n",
        "\n",
        "filepath=\"weights-improvement-{epoch:02d}-{val_accuracy:.2f}.hdf5\"\n",
        "checkpoint = ModelCheckpoint(filepath, monitor='val_accuracy', verbose=1, save_best_only=True, mode='max')\n",
        "callbacks_list = [checkpoint]\n",
        "\n",
        "history = model.fit(x_align, y_align, epochs=num_epochs, batch_size=batch_size,\n",
        "                    validation_data=(x_val,y_val), callbacks=callbacks_list, shuffle=True)\n",
        "\"\"\"\n",
        "steps_per_epoch = train_generator.n//train_generator.batch_size\n",
        "validation_steps= validation_generator.n//validation_generator.batch_size\n",
        "\n",
        "result = model.fit_generat(train_generator,\n",
        "                      steps_per_epoch=steps_per_epoch,\n",
        "                       epochs=epochs,\n",
        "                       verbose=1,\n",
        "                       validation_data=validation_generator,\n",
        "                        validation_steps=validation_steps,\n",
        "                       callbacks=callbacks_list\n",
        "                      )\n",
        "\"\"\"\n",
        "\n",
        "# Validation\n",
        "plt.plot(history.history['accuracy'], label='accuracy')\n",
        "plt.plot(history.history['val_accuracy'], label = 'val_accuracy')\n",
        "plt.xlabel('Epoch')\n",
        "plt.ylabel('Accuracy')\n",
        "plt.ylim([0.3, 1])\n",
        "plt.legend(loc='lower right')\n",
        "\n",
        "test_loss, test_acc = model.evaluate(x_test,y_test, verbose=2)\n",
        "\n",
        "print(test_acc)\n",
        "\n"
      ]
    },
    {
      "cell_type": "code",
      "source": [
        "test_loss, test_acc = model.evaluate(x_test, y_test, verbose=2)\n",
        "\n",
        "print(test_acc)"
      ],
      "metadata": {
        "colab": {
          "base_uri": "https://localhost:8080/"
        },
        "id": "FcsumBWg1cHX",
        "outputId": "4dc86bca-7309-4143-9271-998428f0f97a"
      },
      "execution_count": null,
      "outputs": [
        {
          "output_type": "stream",
          "name": "stdout",
          "text": [
            "170/170 - 2s - loss: 1.3320 - accuracy: 0.4990 - 2s/epoch - 13ms/step\n",
            "0.4989872872829437\n"
          ]
        }
      ]
    },
    {
      "cell_type": "code",
      "source": [
        "plt.figure(1)  \n",
        "plt.plot(history.history['accuracy'])  \n",
        "plt.plot(history.history['val_accuracy'])  \n",
        "plt.title('model accuracy')  \n",
        "plt.ylabel('accuracy')  \n",
        "plt.xlabel('epoch')  \n",
        "plt.legend(['train', 'test'], loc='upper left')  \n",
        "plt.show()"
      ],
      "metadata": {
        "colab": {
          "base_uri": "https://localhost:8080/",
          "height": 295
        },
        "id": "fqzHj-izDKF2",
        "outputId": "5c50770a-ebf2-479f-bbbb-25f45f24b18b"
      },
      "execution_count": null,
      "outputs": [
        {
          "output_type": "display_data",
          "data": {
            "text/plain": [
              "<Figure size 432x288 with 1 Axes>"
            ],
            "image/png": "[encoded data removed]"
          },
          "metadata": {
            "needs_background": "light"
          }
        }
      ]
    },
    {
      "cell_type": "code",
      "source": [
        "plt.plot(history.history['loss'])  \n",
        "plt.plot(history.history['val_loss'])  \n",
        "plt.title('model loss')  \n",
        "plt.ylabel('loss')  \n",
        "plt.xlabel('epoch')  \n",
        "plt.legend(['train', 'test'], loc='upper left')  \n",
        "plt.show()"
      ],
      "metadata": {
        "colab": {
          "base_uri": "https://localhost:8080/",
          "height": 295
        },
        "id": "wPUlQvwKDTcw",
        "outputId": "c633f420-dffe-4594-e9e2-1a663fa5161d"
      },
      "execution_count": null,
      "outputs": [
        {
          "output_type": "display_data",
          "data": {
            "text/plain": [
              "<Figure size 432x288 with 1 Axes>"
            ],
            "image/png": "[encoded data removed]"
          },
          "metadata": {
            "needs_background": "light"
          }
        }
      ]
    },
    {
      "cell_type": "code",
      "source": [
        "test_loss, test_acc = model.evaluate(x_test, y_test, verbose=2)\n",
        "\n",
        "print(test_acc)"
      ],
      "metadata": {
        "colab": {
          "base_uri": "https://localhost:8080/"
        },
        "id": "JHtsxegeAUw2",
        "outputId": "25becc3c-f283-4350-ed80-97f75d4a7116"
      },
      "execution_count": null,
      "outputs": [
        {
          "output_type": "stream",
          "name": "stdout",
          "text": [
            "170/170 - 1s - loss: 1.2068 - accuracy: 0.2352 - 1s/epoch - 8ms/step\n",
            "0.23522193729877472\n"
          ]
        }
      ]
    },
    {
      "cell_type": "markdown",
      "metadata": {
        "id": "vE1FGIZEjmtm"
      },
      "source": [
        "# **Result Analyse**"
      ]
    },
    {
      "cell_type": "code",
      "execution_count": null,
      "metadata": {
        "id": "rTHy9sFbpdQP"
      },
      "outputs": [],
      "source": [
        "data_dir = '/content/drive/MyDrive/data/FER_prod_data/assignment_2_MLD_qmul'\n",
        "target_image_size = (32, 32)\n",
        "\n",
        "prod_x, prod_y = prepare_image_data(data_dir, target_image_size, name_extend='prod')"
      ]
    },
    {
      "cell_type": "code",
      "execution_count": null,
      "metadata": {
        "id": "TiRVynbBzQw7",
        "colab": {
          "base_uri": "https://localhost:8080/"
        },
        "outputId": "1193918a-b893-455f-ca98-7ede98a6d365"
      },
      "outputs": [
        {
          "output_type": "stream",
          "name": "stdout",
          "text": [
            "817/817 - 8s - loss: 5.0337 - accuracy: 0.3759 - 8s/epoch - 10ms/step\n",
            "5.033720970153809 0.37593236565589905\n"
          ]
        }
      ],
      "source": [
        "prod_loss, prod_acc = model.evaluate(x_prod,  y_prod, verbose=2)\n",
        "\n",
        "print(prod_loss, prod_acc)"
      ]
    },
    {
      "cell_type": "code",
      "execution_count": null,
      "metadata": {
        "colab": {
          "base_uri": "https://localhost:8080/"
        },
        "outputId": "d223bed7-896e-4fef-bb55-e7a400ec0212",
        "id": "YWnqSiWxG7nG"
      },
      "outputs": [
        {
          "output_type": "stream",
          "name": "stdout",
          "text": [
            "817/817 - 8s - 8s/epoch - 10ms/step\n"
          ]
        }
      ],
      "source": [
        "predict = model.predict(x_prod, verbose=2).argmax(axis=-1)"
      ]
    },
    {
      "cell_type": "code",
      "source": [
        "predict=predict.reshape(5431)"
      ],
      "metadata": {
        "id": "jttUc8Jshm3d"
      },
      "execution_count": null,
      "outputs": []
    },
    {
      "cell_type": "code",
      "source": [
        "predict.shape"
      ],
      "metadata": {
        "colab": {
          "base_uri": "https://localhost:8080/"
        },
        "id": "ewk_6uVoob1R",
        "outputId": "60730cfe-b125-443e-e57a-a7c33a886b96"
      },
      "execution_count": null,
      "outputs": [
        {
          "output_type": "execute_result",
          "data": {
            "text/plain": [
              "(5431,)"
            ]
          },
          "metadata": {},
          "execution_count": 49
        }
      ]
    },
    {
      "cell_type": "code",
      "source": [
        "from sklearn.metrics import classification_report\n",
        "\n",
        "print(classification_report(y_prod, predict))"
      ],
      "metadata": {
        "colab": {
          "base_uri": "https://localhost:8080/"
        },
        "id": "U1FK0kq4RnPj",
        "outputId": "e5118130-1be8-4617-b21d-7b2b34f012ff"
      },
      "execution_count": null,
      "outputs": [
        {
          "output_type": "stream",
          "name": "stdout",
          "text": [
            "              precision    recall  f1-score   support\n",
            "\n",
            "           0       0.53      0.41      0.46      3427\n",
            "           1       0.30      0.10      0.14      1362\n",
            "           2       0.61      0.50      0.55      7246\n",
            "           3       0.81      0.33      0.46     11955\n",
            "           4       0.06      0.94      0.12       758\n",
            "           5       0.06      0.04      0.05      1395\n",
            "\n",
            "    accuracy                           0.38     26143\n",
            "   macro avg       0.39      0.39      0.30     26143\n",
            "weighted avg       0.63      0.38      0.44     26143\n",
            "\n"
          ]
        }
      ]
    },
    {
      "cell_type": "code",
      "source": [
        "from sklearn.metrics import classification_report, confusion_matrix, f1_score\n",
        "\n",
        "print(f1_score(y_test, predict,average='weighted'))"
      ],
      "metadata": {
        "colab": {
          "base_uri": "https://localhost:8080/"
        },
        "id": "RWQsgL5RBFe8",
        "outputId": "c86945bd-9e8f-49c3-fac5-ca3e0e3c75a3"
      },
      "execution_count": null,
      "outputs": [
        {
          "output_type": "stream",
          "name": "stdout",
          "text": [
            "0.3935195010477083\n"
          ]
        }
      ]
    },
    {
      "cell_type": "markdown",
      "source": [
        "classes_index = {'ANGER':0, 'FEAR':1, 'SURPRISE':2,'SADNESS':3, 'HAPPINESS':4, 'DISGUST':5}\n"
      ],
      "metadata": {
        "id": "h1CUwnzQB3XB"
      }
    },
    {
      "cell_type": "code",
      "source": [
        "from scipy.stats import itemfreq\n",
        "itemfreq(y_prod)"
      ],
      "metadata": {
        "id": "J5Uya83FNi3P"
      },
      "execution_count": null,
      "outputs": []
    },
    {
      "cell_type": "markdown",
      "source": [
        "0 8228\n",
        "\n",
        "1 2985\n",
        "\n",
        "2 7418\n",
        "\n",
        "3 13040\n",
        "\n",
        "4 9113\n",
        "\n",
        "5 2651"
      ],
      "metadata": {
        "id": "nHgPvbWrSJoW"
      }
    },
    {
      "cell_type": "code",
      "source": [
        "from scipy.stats import itemfreq\n",
        "itemfreq(y_align)"
      ],
      "metadata": {
        "id": "vCp6_1PNBb85"
      },
      "execution_count": null,
      "outputs": []
    },
    {
      "cell_type": "code",
      "source": [
        "from scipy.stats import itemfreq\n",
        "itemfreq(y_test)"
      ],
      "metadata": {
        "id": "8x2fxpVsBcvR"
      },
      "execution_count": null,
      "outputs": []
    },
    {
      "cell_type": "code",
      "source": [
        "from scipy.stats import itemfreq\n",
        "itemfreq(y_val)"
      ],
      "metadata": {
        "id": "JI94IFgq3Hfv"
      },
      "execution_count": null,
      "outputs": []
    },
    {
      "cell_type": "code",
      "source": [
        "from sklearn.metrics import confusion_matrix\n",
        "confusion = confusion_matrix(y_prod,predict)\n",
        "print('Confusion Matrix\\n')\n",
        "print(confusion)"
      ],
      "metadata": {
        "id": "cP5Xd404Fszm"
      },
      "execution_count": null,
      "outputs": []
    },
    {
      "cell_type": "code",
      "source": [
        "import seaborn as sns\n",
        "import matplotlib.pyplot as plt\n",
        "\n",
        "ax = sns.heatmap(confusion/np.sum(confusion), annot=True, \n",
        "            fmt='.2%', cmap='Blues')\n",
        "\n",
        "ax.set_title('Confusion Matrix\\n\\n');\n",
        "ax.set_xlabel('\\nPredicted classes')\n",
        "ax.set_ylabel('Actual classes ');\n",
        "\n",
        "## Ticket labels - List must be in alphabetical order\n",
        "ax.xaxis.set_ticklabels( ['A', 'F', 'SUP','SAD', 'H','D'])\n",
        "ax.yaxis.set_ticklabels(  ['A', 'F', 'SUP','SAD', 'H','D'])\n",
        "\n",
        "## Display the visualization of the Confusion Matrix.\n",
        "plt.show()"
      ],
      "metadata": {
        "id": "Hx7mzLegJDv6"
      },
      "execution_count": null,
      "outputs": []
    },
    {
      "cell_type": "markdown",
      "source": [
        "# **Task2-Alter**"
      ],
      "metadata": {
        "id": "wHYLENXZhDOp"
      }
    },
    {
      "cell_type": "code",
      "source": [
        "from tensorflow.keras.applications import EfficientNetB0\n",
        "model = EfficientNetB0(include_top=False, weights='imagenet')"
      ],
      "metadata": {
        "colab": {
          "base_uri": "https://localhost:8080/"
        },
        "id": "BzWEp_KAiXa7",
        "outputId": "602e3a8a-0e56-40ac-9a2b-93755be97647"
      },
      "execution_count": null,
      "outputs": [
        {
          "output_type": "stream",
          "name": "stdout",
          "text": [
            "Downloading data from https://storage.googleapis.com/keras-applications/efficientnetb0_notop.h5\n",
            "16711680/16705208 [==============================] - 0s 0us/step\n",
            "16719872/16705208 [==============================] - 0s 0us/step\n"
          ]
        }
      ]
    },
    {
      "cell_type": "code",
      "execution_count": null,
      "metadata": {
        "id": "kIu53EtBanpM"
      },
      "outputs": [],
      "source": [
        "IMG_SIZE=32\n",
        "NUM_CLASSES=6\n",
        "def build_model(num_classes):\n",
        "    inputs = layers.Input(shape=(IMG_SIZE, IMG_SIZE, 3))\n",
        "    model = EfficientNetB0(include_top=False, input_tensor=inputs, weights=\"imagenet\")\n",
        "\n",
        "    # Freeze the pretrained weights\n",
        "    model.trainable = False\n",
        "\n",
        "    # Rebuild top\n",
        "    x = layers.GlobalAveragePooling2D(name=\"avg_pool\")(model.output)\n",
        "    x = layers.BatchNormalization()(x)\n",
        "\n",
        "    top_dropout_rate = 0.2\n",
        "    x = layers.Dropout(top_dropout_rate, name=\"top_dropout\")(x)\n",
        "    outputs = layers.Dense(NUM_CLASSES, activation=\"softmax\", name=\"pred\")(x)\n",
        "\n",
        "    # Compile\n",
        "    model = tf.keras.Model(inputs, outputs, name=\"EfficientNet\")\n",
        "    optimizer = tf.keras.optimizers.Adam(learning_rate=1e-2)\n",
        "    model.compile(\n",
        "        optimizer=optimizer, loss=tf.keras.losses.SparseCategoricalCrossentropy(), metrics=[\"accuracy\"]\n",
        "    )\n",
        "    return model\n"
      ]
    },
    {
      "cell_type": "code",
      "source": [
        "\n",
        "model = build_model(num_classes=NUM_CLASSES)\n",
        "\n",
        "epochs = 25  # @param {type: \"slider\", min:8, max:80}\n",
        "checkpoint = ModelCheckpoint(filepath, monitor='val_accuracy', verbose=1, save_best_only=True, mode='max')\n",
        "callbacks_list = [checkpoint]\n",
        "\n",
        "history = model.fit(x_align, y_align, epochs=num_epochs, batch_size=batch_size,\n",
        "                    validation_data=(x_val,y_val), callbacks=callbacks_list, shuffle=True)\n",
        "\n"
      ],
      "metadata": {
        "colab": {
          "base_uri": "https://localhost:8080/"
        },
        "id": "fjueQlJYmHmE",
        "outputId": "5ef752dd-71b5-4250-f833-2a5e0b0d89ac"
      },
      "execution_count": null,
      "outputs": [
        {
          "output_type": "stream",
          "name": "stdout",
          "text": [
            "Epoch 1/30\n",
            "127/127 [==============================] - ETA: 0s - loss: 1.9291 - accuracy: 0.2472\n",
            "Epoch 1: val_accuracy improved from -inf to 0.30700, saving model to weights-improvement-01-0.31.hdf5\n",
            "127/127 [==============================] - 12s 46ms/step - loss: 1.9291 - accuracy: 0.2472 - val_loss: 1.6632 - val_accuracy: 0.3070\n",
            "Epoch 2/30\n",
            "127/127 [==============================] - ETA: 0s - loss: 1.7892 - accuracy: 0.2640\n",
            "Epoch 2: val_accuracy did not improve from 0.30700\n",
            "127/127 [==============================] - 4s 28ms/step - loss: 1.7892 - accuracy: 0.2640 - val_loss: 1.6689 - val_accuracy: 0.3070\n",
            "Epoch 3/30\n",
            "126/127 [============================>.] - ETA: 0s - loss: 1.7573 - accuracy: 0.2687\n",
            "Epoch 3: val_accuracy did not improve from 0.30700\n",
            "127/127 [==============================] - 4s 29ms/step - loss: 1.7574 - accuracy: 0.2687 - val_loss: 1.6620 - val_accuracy: 0.3070\n",
            "Epoch 4/30\n",
            "125/127 [============================>.] - ETA: 0s - loss: 1.7224 - accuracy: 0.2695\n",
            "Epoch 4: val_accuracy did not improve from 0.30700\n",
            "127/127 [==============================] - 4s 29ms/step - loss: 1.7222 - accuracy: 0.2696 - val_loss: 1.6573 - val_accuracy: 0.3070\n",
            "Epoch 5/30\n",
            "127/127 [==============================] - ETA: 0s - loss: 1.7039 - accuracy: 0.2789\n",
            "Epoch 5: val_accuracy did not improve from 0.30700\n",
            "127/127 [==============================] - 3s 28ms/step - loss: 1.7039 - accuracy: 0.2789 - val_loss: 1.6637 - val_accuracy: 0.3070\n",
            "Epoch 6/30\n",
            "125/127 [============================>.] - ETA: 0s - loss: 1.6895 - accuracy: 0.2836\n",
            "Epoch 6: val_accuracy did not improve from 0.30700\n",
            "127/127 [==============================] - 4s 28ms/step - loss: 1.6893 - accuracy: 0.2838 - val_loss: 1.6548 - val_accuracy: 0.3070\n",
            "Epoch 7/30\n",
            "125/127 [============================>.] - ETA: 0s - loss: 1.6734 - accuracy: 0.2893\n",
            "Epoch 7: val_accuracy did not improve from 0.30700\n",
            "127/127 [==============================] - 4s 28ms/step - loss: 1.6735 - accuracy: 0.2895 - val_loss: 1.6573 - val_accuracy: 0.3070\n",
            "Epoch 8/30\n",
            "126/127 [============================>.] - ETA: 0s - loss: 1.6686 - accuracy: 0.2930\n",
            "Epoch 8: val_accuracy did not improve from 0.30700\n",
            "127/127 [==============================] - 4s 28ms/step - loss: 1.6685 - accuracy: 0.2931 - val_loss: 1.6565 - val_accuracy: 0.3070\n",
            "Epoch 9/30\n",
            "126/127 [============================>.] - ETA: 0s - loss: 1.6670 - accuracy: 0.2975\n",
            "Epoch 9: val_accuracy did not improve from 0.30700\n",
            "127/127 [==============================] - 4s 28ms/step - loss: 1.6672 - accuracy: 0.2975 - val_loss: 1.6571 - val_accuracy: 0.3070\n",
            "Epoch 10/30\n",
            "126/127 [============================>.] - ETA: 0s - loss: 1.6651 - accuracy: 0.2994\n",
            "Epoch 10: val_accuracy did not improve from 0.30700\n",
            "127/127 [==============================] - 4s 28ms/step - loss: 1.6651 - accuracy: 0.2995 - val_loss: 1.6589 - val_accuracy: 0.3070\n",
            "Epoch 11/30\n",
            "125/127 [============================>.] - ETA: 0s - loss: 1.6647 - accuracy: 0.3004\n",
            "Epoch 11: val_accuracy did not improve from 0.30700\n",
            "127/127 [==============================] - 4s 28ms/step - loss: 1.6644 - accuracy: 0.3006 - val_loss: 1.6633 - val_accuracy: 0.3070\n",
            "Epoch 12/30\n",
            "126/127 [============================>.] - ETA: 0s - loss: 1.6627 - accuracy: 0.3012\n",
            "Epoch 12: val_accuracy did not improve from 0.30700\n",
            "127/127 [==============================] - 4s 29ms/step - loss: 1.6629 - accuracy: 0.3011 - val_loss: 1.6584 - val_accuracy: 0.3070\n",
            "Epoch 13/30\n",
            "126/127 [============================>.] - ETA: 0s - loss: 1.6622 - accuracy: 0.3010\n",
            "Epoch 13: val_accuracy did not improve from 0.30700\n",
            "127/127 [==============================] - 4s 28ms/step - loss: 1.6622 - accuracy: 0.3011 - val_loss: 1.6602 - val_accuracy: 0.3070\n",
            "Epoch 14/30\n",
            "125/127 [============================>.] - ETA: 0s - loss: 1.6623 - accuracy: 0.3010\n",
            "Epoch 14: val_accuracy did not improve from 0.30700\n",
            "127/127 [==============================] - 4s 29ms/step - loss: 1.6623 - accuracy: 0.3010 - val_loss: 1.6576 - val_accuracy: 0.3070\n",
            "Epoch 15/30\n",
            "126/127 [============================>.] - ETA: 0s - loss: 1.6613 - accuracy: 0.3013\n",
            "Epoch 15: val_accuracy did not improve from 0.30700\n",
            "127/127 [==============================] - 4s 28ms/step - loss: 1.6613 - accuracy: 0.3013 - val_loss: 1.6570 - val_accuracy: 0.3070\n",
            "Epoch 16/30\n",
            "127/127 [==============================] - ETA: 0s - loss: 1.6615 - accuracy: 0.3012\n",
            "Epoch 16: val_accuracy did not improve from 0.30700\n",
            "127/127 [==============================] - 4s 28ms/step - loss: 1.6615 - accuracy: 0.3012 - val_loss: 1.6585 - val_accuracy: 0.3070\n",
            "Epoch 17/30\n",
            "127/127 [==============================] - ETA: 0s - loss: 1.6607 - accuracy: 0.3011\n",
            "Epoch 17: val_accuracy did not improve from 0.30700\n",
            "127/127 [==============================] - 4s 28ms/step - loss: 1.6607 - accuracy: 0.3011 - val_loss: 1.6589 - val_accuracy: 0.3070\n",
            "Epoch 18/30\n",
            "126/127 [============================>.] - ETA: 0s - loss: 1.6607 - accuracy: 0.3012\n",
            "Epoch 18: val_accuracy did not improve from 0.30700\n",
            "127/127 [==============================] - 4s 28ms/step - loss: 1.6606 - accuracy: 0.3013 - val_loss: 1.6571 - val_accuracy: 0.3070\n",
            "Epoch 19/30\n",
            "125/127 [============================>.] - ETA: 0s - loss: 1.6611 - accuracy: 0.3015\n",
            "Epoch 19: val_accuracy did not improve from 0.30700\n",
            "127/127 [==============================] - 4s 28ms/step - loss: 1.6609 - accuracy: 0.3013 - val_loss: 1.6582 - val_accuracy: 0.3070\n",
            "Epoch 20/30\n",
            "127/127 [==============================] - ETA: 0s - loss: 1.6619 - accuracy: 0.3013\n",
            "Epoch 20: val_accuracy did not improve from 0.30700\n",
            "127/127 [==============================] - 4s 29ms/step - loss: 1.6619 - accuracy: 0.3013 - val_loss: 1.6567 - val_accuracy: 0.3070\n",
            "Epoch 21/30\n",
            "127/127 [==============================] - ETA: 0s - loss: 1.6612 - accuracy: 0.3013\n",
            "Epoch 21: val_accuracy did not improve from 0.30700\n",
            "127/127 [==============================] - 4s 29ms/step - loss: 1.6612 - accuracy: 0.3013 - val_loss: 1.6573 - val_accuracy: 0.3070\n",
            "Epoch 22/30\n",
            "126/127 [============================>.] - ETA: 0s - loss: 1.6610 - accuracy: 0.3011\n",
            "Epoch 22: val_accuracy did not improve from 0.30700\n",
            "127/127 [==============================] - 4s 28ms/step - loss: 1.6609 - accuracy: 0.3013 - val_loss: 1.6574 - val_accuracy: 0.3070\n",
            "Epoch 23/30\n",
            "126/127 [============================>.] - ETA: 0s - loss: 1.6610 - accuracy: 0.3014\n",
            "Epoch 23: val_accuracy did not improve from 0.30700\n",
            "127/127 [==============================] - 4s 29ms/step - loss: 1.6610 - accuracy: 0.3013 - val_loss: 1.6573 - val_accuracy: 0.3070\n",
            "Epoch 24/30\n",
            "127/127 [==============================] - ETA: 0s - loss: 1.6615 - accuracy: 0.3011\n",
            "Epoch 24: val_accuracy did not improve from 0.30700\n",
            "127/127 [==============================] - 4s 29ms/step - loss: 1.6615 - accuracy: 0.3011 - val_loss: 1.6594 - val_accuracy: 0.3070\n",
            "Epoch 25/30\n",
            "126/127 [============================>.] - ETA: 0s - loss: 1.6618 - accuracy: 0.3011\n",
            "Epoch 25: val_accuracy did not improve from 0.30700\n",
            "127/127 [==============================] - 4s 28ms/step - loss: 1.6619 - accuracy: 0.3011 - val_loss: 1.6580 - val_accuracy: 0.3070\n",
            "Epoch 26/30\n",
            "126/127 [============================>.] - ETA: 0s - loss: 1.6618 - accuracy: 0.3006\n",
            "Epoch 26: val_accuracy did not improve from 0.30700\n",
            "127/127 [==============================] - 5s 36ms/step - loss: 1.6617 - accuracy: 0.3003 - val_loss: 1.6599 - val_accuracy: 0.3070\n",
            "Epoch 27/30\n",
            "126/127 [============================>.] - ETA: 0s - loss: 1.6625 - accuracy: 0.3009\n",
            "Epoch 27: val_accuracy did not improve from 0.30700\n",
            "127/127 [==============================] - 4s 28ms/step - loss: 1.6625 - accuracy: 0.3011 - val_loss: 1.6602 - val_accuracy: 0.3070\n",
            "Epoch 28/30\n",
            "127/127 [==============================] - ETA: 0s - loss: 1.6620 - accuracy: 0.3006\n",
            "Epoch 28: val_accuracy did not improve from 0.30700\n",
            "127/127 [==============================] - 4s 29ms/step - loss: 1.6620 - accuracy: 0.3006 - val_loss: 1.6608 - val_accuracy: 0.3070\n",
            "Epoch 29/30\n",
            "126/127 [============================>.] - ETA: 0s - loss: 1.6624 - accuracy: 0.3008\n",
            "Epoch 29: val_accuracy did not improve from 0.30700\n",
            "127/127 [==============================] - 4s 30ms/step - loss: 1.6624 - accuracy: 0.3006 - val_loss: 1.6610 - val_accuracy: 0.3070\n",
            "Epoch 30/30\n",
            "125/127 [============================>.] - ETA: 0s - loss: 1.6636 - accuracy: 0.3003\n",
            "Epoch 30: val_accuracy did not improve from 0.30700\n",
            "127/127 [==============================] - 4s 29ms/step - loss: 1.6635 - accuracy: 0.3006 - val_loss: 1.6599 - val_accuracy: 0.3070\n"
          ]
        }
      ]
    },
    {
      "cell_type": "markdown",
      "source": [
        "# **REsnet**"
      ],
      "metadata": {
        "id": "8p6e5ZH_u8kk"
      }
    },
    {
      "cell_type": "code",
      "source": [
        "from keras.applications.resnet import ResNet50, ResNet101, ResNet152\n",
        "from keras.models import Model\n",
        "# load model without classifier layers\n",
        "model = ResNet50(include_top=False, weights=\"imagenet\", input_shape=(32, 32, 3)) # or you can load here any other network\n",
        "\n",
        "### If we want to freeze these pretrained weights:\n",
        "\n",
        "for layer in model.layers:\n",
        "\tlayer.trainable = False     # mark loaded layers as not trainable    \n",
        "\n",
        "# add new classifier layers\n",
        "flat1 = layers.Flatten()(model.layers[-1].output)\n",
        "output = layers.Dense(6, activation='softmax')(flat1)\n",
        "\n",
        "\n",
        "# define new model\n",
        "model = Model(inputs=model.inputs, outputs=output)\n",
        "\n",
        "model.compile(optimizers.Adam(learning_rate=0.0001),\n",
        "              loss=tf.keras.losses.SparseCategoricalCrossentropy(),\n",
        "              metrics=['accuracy'])\n",
        "\n",
        "model.summary()"
      ],
      "metadata": {
        "id": "pH8HDQ6svARb",
        "colab": {
          "base_uri": "https://localhost:8080/",
          "height": 425
        },
        "outputId": "540825c3-728b-4341-e97f-55ffc9f6707f"
      },
      "execution_count": null,
      "outputs": [
        {
          "output_type": "stream",
          "name": "stdout",
          "text": [
            "Downloading data from https://storage.googleapis.com/tensorflow/keras-applications/resnet/resnet50_weights_tf_dim_ordering_tf_kernels_notop.h5\n",
            "71712768/94765736 [=====================>........] - ETA: 0s"
          ]
        },
        {
          "output_type": "error",
          "ename": "KeyboardInterrupt",
          "evalue": "ignored",
          "traceback": [
            "\u001b[0;31m---------------------------------------------------------------------------\u001b[0m",
            "\u001b[0;31mKeyboardInterrupt\u001b[0m                         Traceback (most recent call last)",
            "\u001b[0;32m<ipython-input-15-3db9cc8b83d5>\u001b[0m in \u001b[0;36m<module>\u001b[0;34m()\u001b[0m\n\u001b[1;32m      2\u001b[0m \u001b[0;32mfrom\u001b[0m \u001b[0mkeras\u001b[0m\u001b[0;34m.\u001b[0m\u001b[0mmodels\u001b[0m \u001b[0;32mimport\u001b[0m \u001b[0mModel\u001b[0m\u001b[0;34m\u001b[0m\u001b[0;34m\u001b[0m\u001b[0m\n\u001b[1;32m      3\u001b[0m \u001b[0;31m# load model without classifier layers\u001b[0m\u001b[0;34m\u001b[0m\u001b[0;34m\u001b[0m\u001b[0;34m\u001b[0m\u001b[0m\n\u001b[0;32m----> 4\u001b[0;31m \u001b[0mmodel\u001b[0m \u001b[0;34m=\u001b[0m \u001b[0mResNet50\u001b[0m\u001b[0;34m(\u001b[0m\u001b[0minclude_top\u001b[0m\u001b[0;34m=\u001b[0m\u001b[0;32mFalse\u001b[0m\u001b[0;34m,\u001b[0m \u001b[0mweights\u001b[0m\u001b[0;34m=\u001b[0m\u001b[0;34m\"imagenet\"\u001b[0m\u001b[0;34m,\u001b[0m \u001b[0minput_shape\u001b[0m\u001b[0;34m=\u001b[0m\u001b[0;34m(\u001b[0m\u001b[0;36m32\u001b[0m\u001b[0;34m,\u001b[0m \u001b[0;36m32\u001b[0m\u001b[0;34m,\u001b[0m \u001b[0;36m3\u001b[0m\u001b[0;34m)\u001b[0m\u001b[0;34m)\u001b[0m \u001b[0;31m# or you can load here any other network\u001b[0m\u001b[0;34m\u001b[0m\u001b[0;34m\u001b[0m\u001b[0m\n\u001b[0m\u001b[1;32m      5\u001b[0m \u001b[0;34m\u001b[0m\u001b[0m\n\u001b[1;32m      6\u001b[0m \u001b[0;31m### If we want to freeze these pretrained weights:\u001b[0m\u001b[0;34m\u001b[0m\u001b[0;34m\u001b[0m\u001b[0;34m\u001b[0m\u001b[0m\n",
            "\u001b[0;32m/usr/local/lib/python3.7/dist-packages/keras/applications/resnet.py\u001b[0m in \u001b[0;36mResNet50\u001b[0;34m(include_top, weights, input_tensor, input_shape, pooling, classes, **kwargs)\u001b[0m\n\u001b[1;32m    457\u001b[0m \u001b[0;34m\u001b[0m\u001b[0m\n\u001b[1;32m    458\u001b[0m   return ResNet(stack_fn, False, True, 'resnet50', include_top, weights,\n\u001b[0;32m--> 459\u001b[0;31m                 input_tensor, input_shape, pooling, classes, **kwargs)\n\u001b[0m\u001b[1;32m    460\u001b[0m \u001b[0;34m\u001b[0m\u001b[0m\n\u001b[1;32m    461\u001b[0m \u001b[0;34m\u001b[0m\u001b[0m\n",
            "\u001b[0;32m/usr/local/lib/python3.7/dist-packages/keras/applications/resnet.py\u001b[0m in \u001b[0;36mResNet\u001b[0;34m(stack_fn, preact, use_bias, model_name, include_top, weights, input_tensor, input_shape, pooling, classes, classifier_activation, **kwargs)\u001b[0m\n\u001b[1;32m    203\u001b[0m         \u001b[0mBASE_WEIGHTS_PATH\u001b[0m \u001b[0;34m+\u001b[0m \u001b[0mfile_name\u001b[0m\u001b[0;34m,\u001b[0m\u001b[0;34m\u001b[0m\u001b[0;34m\u001b[0m\u001b[0m\n\u001b[1;32m    204\u001b[0m         \u001b[0mcache_subdir\u001b[0m\u001b[0;34m=\u001b[0m\u001b[0;34m'models'\u001b[0m\u001b[0;34m,\u001b[0m\u001b[0;34m\u001b[0m\u001b[0;34m\u001b[0m\u001b[0m\n\u001b[0;32m--> 205\u001b[0;31m         file_hash=file_hash)\n\u001b[0m\u001b[1;32m    206\u001b[0m     \u001b[0mmodel\u001b[0m\u001b[0;34m.\u001b[0m\u001b[0mload_weights\u001b[0m\u001b[0;34m(\u001b[0m\u001b[0mweights_path\u001b[0m\u001b[0;34m)\u001b[0m\u001b[0;34m\u001b[0m\u001b[0;34m\u001b[0m\u001b[0m\n\u001b[1;32m    207\u001b[0m   \u001b[0;32melif\u001b[0m \u001b[0mweights\u001b[0m \u001b[0;32mis\u001b[0m \u001b[0;32mnot\u001b[0m \u001b[0;32mNone\u001b[0m\u001b[0;34m:\u001b[0m\u001b[0;34m\u001b[0m\u001b[0;34m\u001b[0m\u001b[0m\n",
            "\u001b[0;32m/usr/local/lib/python3.7/dist-packages/keras/utils/data_utils.py\u001b[0m in \u001b[0;36mget_file\u001b[0;34m(fname, origin, untar, md5_hash, file_hash, cache_subdir, hash_algorithm, extract, archive_format, cache_dir)\u001b[0m\n\u001b[1;32m    275\u001b[0m     \u001b[0;32mtry\u001b[0m\u001b[0;34m:\u001b[0m\u001b[0;34m\u001b[0m\u001b[0;34m\u001b[0m\u001b[0m\n\u001b[1;32m    276\u001b[0m       \u001b[0;32mtry\u001b[0m\u001b[0;34m:\u001b[0m\u001b[0;34m\u001b[0m\u001b[0;34m\u001b[0m\u001b[0m\n\u001b[0;32m--> 277\u001b[0;31m         \u001b[0murlretrieve\u001b[0m\u001b[0;34m(\u001b[0m\u001b[0morigin\u001b[0m\u001b[0;34m,\u001b[0m \u001b[0mfpath\u001b[0m\u001b[0;34m,\u001b[0m \u001b[0mdl_progress\u001b[0m\u001b[0;34m)\u001b[0m\u001b[0;34m\u001b[0m\u001b[0;34m\u001b[0m\u001b[0m\n\u001b[0m\u001b[1;32m    278\u001b[0m       \u001b[0;32mexcept\u001b[0m \u001b[0murllib\u001b[0m\u001b[0;34m.\u001b[0m\u001b[0merror\u001b[0m\u001b[0;34m.\u001b[0m\u001b[0mHTTPError\u001b[0m \u001b[0;32mas\u001b[0m \u001b[0me\u001b[0m\u001b[0;34m:\u001b[0m\u001b[0;34m\u001b[0m\u001b[0;34m\u001b[0m\u001b[0m\n\u001b[1;32m    279\u001b[0m         \u001b[0;32mraise\u001b[0m \u001b[0mException\u001b[0m\u001b[0;34m(\u001b[0m\u001b[0merror_msg\u001b[0m\u001b[0;34m.\u001b[0m\u001b[0mformat\u001b[0m\u001b[0;34m(\u001b[0m\u001b[0morigin\u001b[0m\u001b[0;34m,\u001b[0m \u001b[0me\u001b[0m\u001b[0;34m.\u001b[0m\u001b[0mcode\u001b[0m\u001b[0;34m,\u001b[0m \u001b[0me\u001b[0m\u001b[0;34m.\u001b[0m\u001b[0mmsg\u001b[0m\u001b[0;34m)\u001b[0m\u001b[0;34m)\u001b[0m\u001b[0;34m\u001b[0m\u001b[0;34m\u001b[0m\u001b[0m\n",
            "\u001b[0;32m/usr/local/lib/python3.7/dist-packages/keras/utils/data_utils.py\u001b[0m in \u001b[0;36murlretrieve\u001b[0;34m(url, filename, reporthook, data)\u001b[0m\n\u001b[1;32m     82\u001b[0m     \u001b[0mresponse\u001b[0m \u001b[0;34m=\u001b[0m \u001b[0murlopen\u001b[0m\u001b[0;34m(\u001b[0m\u001b[0murl\u001b[0m\u001b[0;34m,\u001b[0m \u001b[0mdata\u001b[0m\u001b[0;34m)\u001b[0m\u001b[0;34m\u001b[0m\u001b[0;34m\u001b[0m\u001b[0m\n\u001b[1;32m     83\u001b[0m     \u001b[0;32mwith\u001b[0m \u001b[0mopen\u001b[0m\u001b[0;34m(\u001b[0m\u001b[0mfilename\u001b[0m\u001b[0;34m,\u001b[0m \u001b[0;34m'wb'\u001b[0m\u001b[0;34m)\u001b[0m \u001b[0;32mas\u001b[0m \u001b[0mfd\u001b[0m\u001b[0;34m:\u001b[0m\u001b[0;34m\u001b[0m\u001b[0;34m\u001b[0m\u001b[0m\n\u001b[0;32m---> 84\u001b[0;31m       \u001b[0;32mfor\u001b[0m \u001b[0mchunk\u001b[0m \u001b[0;32min\u001b[0m \u001b[0mchunk_read\u001b[0m\u001b[0;34m(\u001b[0m\u001b[0mresponse\u001b[0m\u001b[0;34m,\u001b[0m \u001b[0mreporthook\u001b[0m\u001b[0;34m=\u001b[0m\u001b[0mreporthook\u001b[0m\u001b[0;34m)\u001b[0m\u001b[0;34m:\u001b[0m\u001b[0;34m\u001b[0m\u001b[0;34m\u001b[0m\u001b[0m\n\u001b[0m\u001b[1;32m     85\u001b[0m         \u001b[0mfd\u001b[0m\u001b[0;34m.\u001b[0m\u001b[0mwrite\u001b[0m\u001b[0;34m(\u001b[0m\u001b[0mchunk\u001b[0m\u001b[0;34m)\u001b[0m\u001b[0;34m\u001b[0m\u001b[0;34m\u001b[0m\u001b[0m\n\u001b[1;32m     86\u001b[0m \u001b[0;32melse\u001b[0m\u001b[0;34m:\u001b[0m\u001b[0;34m\u001b[0m\u001b[0;34m\u001b[0m\u001b[0m\n",
            "\u001b[0;32m/usr/local/lib/python3.7/dist-packages/keras/utils/data_utils.py\u001b[0m in \u001b[0;36mchunk_read\u001b[0;34m(response, chunk_size, reporthook)\u001b[0m\n\u001b[1;32m     71\u001b[0m       \u001b[0mcount\u001b[0m \u001b[0;34m=\u001b[0m \u001b[0;36m0\u001b[0m\u001b[0;34m\u001b[0m\u001b[0;34m\u001b[0m\u001b[0m\n\u001b[1;32m     72\u001b[0m       \u001b[0;32mwhile\u001b[0m \u001b[0;32mTrue\u001b[0m\u001b[0;34m:\u001b[0m\u001b[0;34m\u001b[0m\u001b[0;34m\u001b[0m\u001b[0m\n\u001b[0;32m---> 73\u001b[0;31m         \u001b[0mchunk\u001b[0m \u001b[0;34m=\u001b[0m \u001b[0mresponse\u001b[0m\u001b[0;34m.\u001b[0m\u001b[0mread\u001b[0m\u001b[0;34m(\u001b[0m\u001b[0mchunk_size\u001b[0m\u001b[0;34m)\u001b[0m\u001b[0;34m\u001b[0m\u001b[0;34m\u001b[0m\u001b[0m\n\u001b[0m\u001b[1;32m     74\u001b[0m         \u001b[0mcount\u001b[0m \u001b[0;34m+=\u001b[0m \u001b[0;36m1\u001b[0m\u001b[0;34m\u001b[0m\u001b[0;34m\u001b[0m\u001b[0m\n\u001b[1;32m     75\u001b[0m         \u001b[0;32mif\u001b[0m \u001b[0mreporthook\u001b[0m \u001b[0;32mis\u001b[0m \u001b[0;32mnot\u001b[0m \u001b[0;32mNone\u001b[0m\u001b[0;34m:\u001b[0m\u001b[0;34m\u001b[0m\u001b[0;34m\u001b[0m\u001b[0m\n",
            "\u001b[0;32m/usr/lib/python3.7/http/client.py\u001b[0m in \u001b[0;36mread\u001b[0;34m(self, amt)\u001b[0m\n\u001b[1;32m    463\u001b[0m             \u001b[0;31m# Amount is given, implement using readinto\u001b[0m\u001b[0;34m\u001b[0m\u001b[0;34m\u001b[0m\u001b[0;34m\u001b[0m\u001b[0m\n\u001b[1;32m    464\u001b[0m             \u001b[0mb\u001b[0m \u001b[0;34m=\u001b[0m \u001b[0mbytearray\u001b[0m\u001b[0;34m(\u001b[0m\u001b[0mamt\u001b[0m\u001b[0;34m)\u001b[0m\u001b[0;34m\u001b[0m\u001b[0;34m\u001b[0m\u001b[0m\n\u001b[0;32m--> 465\u001b[0;31m             \u001b[0mn\u001b[0m \u001b[0;34m=\u001b[0m \u001b[0mself\u001b[0m\u001b[0;34m.\u001b[0m\u001b[0mreadinto\u001b[0m\u001b[0;34m(\u001b[0m\u001b[0mb\u001b[0m\u001b[0;34m)\u001b[0m\u001b[0;34m\u001b[0m\u001b[0;34m\u001b[0m\u001b[0m\n\u001b[0m\u001b[1;32m    466\u001b[0m             \u001b[0;32mreturn\u001b[0m \u001b[0mmemoryview\u001b[0m\u001b[0;34m(\u001b[0m\u001b[0mb\u001b[0m\u001b[0;34m)\u001b[0m\u001b[0;34m[\u001b[0m\u001b[0;34m:\u001b[0m\u001b[0mn\u001b[0m\u001b[0;34m]\u001b[0m\u001b[0;34m.\u001b[0m\u001b[0mtobytes\u001b[0m\u001b[0;34m(\u001b[0m\u001b[0;34m)\u001b[0m\u001b[0;34m\u001b[0m\u001b[0;34m\u001b[0m\u001b[0m\n\u001b[1;32m    467\u001b[0m         \u001b[0;32melse\u001b[0m\u001b[0;34m:\u001b[0m\u001b[0;34m\u001b[0m\u001b[0;34m\u001b[0m\u001b[0m\n",
            "\u001b[0;32m/usr/lib/python3.7/http/client.py\u001b[0m in \u001b[0;36mreadinto\u001b[0;34m(self, b)\u001b[0m\n\u001b[1;32m    507\u001b[0m         \u001b[0;31m# connection, and the user is reading more bytes than will be provided\u001b[0m\u001b[0;34m\u001b[0m\u001b[0;34m\u001b[0m\u001b[0;34m\u001b[0m\u001b[0m\n\u001b[1;32m    508\u001b[0m         \u001b[0;31m# (for example, reading in 1k chunks)\u001b[0m\u001b[0;34m\u001b[0m\u001b[0;34m\u001b[0m\u001b[0;34m\u001b[0m\u001b[0m\n\u001b[0;32m--> 509\u001b[0;31m         \u001b[0mn\u001b[0m \u001b[0;34m=\u001b[0m \u001b[0mself\u001b[0m\u001b[0;34m.\u001b[0m\u001b[0mfp\u001b[0m\u001b[0;34m.\u001b[0m\u001b[0mreadinto\u001b[0m\u001b[0;34m(\u001b[0m\u001b[0mb\u001b[0m\u001b[0;34m)\u001b[0m\u001b[0;34m\u001b[0m\u001b[0;34m\u001b[0m\u001b[0m\n\u001b[0m\u001b[1;32m    510\u001b[0m         \u001b[0;32mif\u001b[0m \u001b[0;32mnot\u001b[0m \u001b[0mn\u001b[0m \u001b[0;32mand\u001b[0m \u001b[0mb\u001b[0m\u001b[0;34m:\u001b[0m\u001b[0;34m\u001b[0m\u001b[0;34m\u001b[0m\u001b[0m\n\u001b[1;32m    511\u001b[0m             \u001b[0;31m# Ideally, we would raise IncompleteRead if the content-length\u001b[0m\u001b[0;34m\u001b[0m\u001b[0;34m\u001b[0m\u001b[0;34m\u001b[0m\u001b[0m\n",
            "\u001b[0;32m/usr/lib/python3.7/socket.py\u001b[0m in \u001b[0;36mreadinto\u001b[0;34m(self, b)\u001b[0m\n\u001b[1;32m    587\u001b[0m         \u001b[0;32mwhile\u001b[0m \u001b[0;32mTrue\u001b[0m\u001b[0;34m:\u001b[0m\u001b[0;34m\u001b[0m\u001b[0;34m\u001b[0m\u001b[0m\n\u001b[1;32m    588\u001b[0m             \u001b[0;32mtry\u001b[0m\u001b[0;34m:\u001b[0m\u001b[0;34m\u001b[0m\u001b[0;34m\u001b[0m\u001b[0m\n\u001b[0;32m--> 589\u001b[0;31m                 \u001b[0;32mreturn\u001b[0m \u001b[0mself\u001b[0m\u001b[0;34m.\u001b[0m\u001b[0m_sock\u001b[0m\u001b[0;34m.\u001b[0m\u001b[0mrecv_into\u001b[0m\u001b[0;34m(\u001b[0m\u001b[0mb\u001b[0m\u001b[0;34m)\u001b[0m\u001b[0;34m\u001b[0m\u001b[0;34m\u001b[0m\u001b[0m\n\u001b[0m\u001b[1;32m    590\u001b[0m             \u001b[0;32mexcept\u001b[0m \u001b[0mtimeout\u001b[0m\u001b[0;34m:\u001b[0m\u001b[0;34m\u001b[0m\u001b[0;34m\u001b[0m\u001b[0m\n\u001b[1;32m    591\u001b[0m                 \u001b[0mself\u001b[0m\u001b[0;34m.\u001b[0m\u001b[0m_timeout_occurred\u001b[0m \u001b[0;34m=\u001b[0m \u001b[0;32mTrue\u001b[0m\u001b[0;34m\u001b[0m\u001b[0;34m\u001b[0m\u001b[0m\n",
            "\u001b[0;32m/usr/lib/python3.7/ssl.py\u001b[0m in \u001b[0;36mrecv_into\u001b[0;34m(self, buffer, nbytes, flags)\u001b[0m\n\u001b[1;32m   1069\u001b[0m                   \u001b[0;34m\"non-zero flags not allowed in calls to recv_into() on %s\"\u001b[0m \u001b[0;34m%\u001b[0m\u001b[0;34m\u001b[0m\u001b[0;34m\u001b[0m\u001b[0m\n\u001b[1;32m   1070\u001b[0m                   self.__class__)\n\u001b[0;32m-> 1071\u001b[0;31m             \u001b[0;32mreturn\u001b[0m \u001b[0mself\u001b[0m\u001b[0;34m.\u001b[0m\u001b[0mread\u001b[0m\u001b[0;34m(\u001b[0m\u001b[0mnbytes\u001b[0m\u001b[0;34m,\u001b[0m \u001b[0mbuffer\u001b[0m\u001b[0;34m)\u001b[0m\u001b[0;34m\u001b[0m\u001b[0;34m\u001b[0m\u001b[0m\n\u001b[0m\u001b[1;32m   1072\u001b[0m         \u001b[0;32melse\u001b[0m\u001b[0;34m:\u001b[0m\u001b[0;34m\u001b[0m\u001b[0;34m\u001b[0m\u001b[0m\n\u001b[1;32m   1073\u001b[0m             \u001b[0;32mreturn\u001b[0m \u001b[0msuper\u001b[0m\u001b[0;34m(\u001b[0m\u001b[0;34m)\u001b[0m\u001b[0;34m.\u001b[0m\u001b[0mrecv_into\u001b[0m\u001b[0;34m(\u001b[0m\u001b[0mbuffer\u001b[0m\u001b[0;34m,\u001b[0m \u001b[0mnbytes\u001b[0m\u001b[0;34m,\u001b[0m \u001b[0mflags\u001b[0m\u001b[0;34m)\u001b[0m\u001b[0;34m\u001b[0m\u001b[0;34m\u001b[0m\u001b[0m\n",
            "\u001b[0;32m/usr/lib/python3.7/ssl.py\u001b[0m in \u001b[0;36mread\u001b[0;34m(self, len, buffer)\u001b[0m\n\u001b[1;32m    927\u001b[0m         \u001b[0;32mtry\u001b[0m\u001b[0;34m:\u001b[0m\u001b[0;34m\u001b[0m\u001b[0;34m\u001b[0m\u001b[0m\n\u001b[1;32m    928\u001b[0m             \u001b[0;32mif\u001b[0m \u001b[0mbuffer\u001b[0m \u001b[0;32mis\u001b[0m \u001b[0;32mnot\u001b[0m \u001b[0;32mNone\u001b[0m\u001b[0;34m:\u001b[0m\u001b[0;34m\u001b[0m\u001b[0;34m\u001b[0m\u001b[0m\n\u001b[0;32m--> 929\u001b[0;31m                 \u001b[0;32mreturn\u001b[0m \u001b[0mself\u001b[0m\u001b[0;34m.\u001b[0m\u001b[0m_sslobj\u001b[0m\u001b[0;34m.\u001b[0m\u001b[0mread\u001b[0m\u001b[0;34m(\u001b[0m\u001b[0mlen\u001b[0m\u001b[0;34m,\u001b[0m \u001b[0mbuffer\u001b[0m\u001b[0;34m)\u001b[0m\u001b[0;34m\u001b[0m\u001b[0;34m\u001b[0m\u001b[0m\n\u001b[0m\u001b[1;32m    930\u001b[0m             \u001b[0;32melse\u001b[0m\u001b[0;34m:\u001b[0m\u001b[0;34m\u001b[0m\u001b[0;34m\u001b[0m\u001b[0m\n\u001b[1;32m    931\u001b[0m                 \u001b[0;32mreturn\u001b[0m \u001b[0mself\u001b[0m\u001b[0;34m.\u001b[0m\u001b[0m_sslobj\u001b[0m\u001b[0;34m.\u001b[0m\u001b[0mread\u001b[0m\u001b[0;34m(\u001b[0m\u001b[0mlen\u001b[0m\u001b[0;34m)\u001b[0m\u001b[0;34m\u001b[0m\u001b[0;34m\u001b[0m\u001b[0m\n",
            "\u001b[0;31mKeyboardInterrupt\u001b[0m: "
          ]
        }
      ]
    },
    {
      "cell_type": "code",
      "metadata": {
        "ExecuteTime": {
          "end_time": "2020-06-10T16:59:03.569655Z",
          "start_time": "2020-06-10T16:54:32.3542Z"
        },
        "id": "bYO5EHSBvcW0"
      },
      "source": [
        "# Training\n",
        "history = model.fit(x_align, y_align, epochs=30, batch_size=256,\n",
        "                    validation_data=(x_val, y_val))\n",
        "\n",
        "# Validation\n",
        "plt.plot(history.history['accuracy'], label='accuracy')\n",
        "plt.plot(history.history['val_accuracy'], label = 'val_accuracy')\n",
        "plt.xlabel('Epoch')\n",
        "plt.ylabel('Accuracy')\n",
        "plt.ylim([0.3, 1])\n",
        "plt.legend(loc='lower right')\n",
        "\n",
        "test_loss, test_acc = model.evaluate(x_test,  y_test, verbose=2)\n",
        "\n",
        "print(test_acc)"
      ],
      "execution_count": null,
      "outputs": []
    }
  ],
  "metadata": {
    "accelerator": "GPU",
    "colab": {
      "collapsed_sections": [],
      "provenance": []
    },
    "gpuClass": "standard",
    "kernelspec": {
      "display_name": "Python 3",
      "name": "python3"
    },
    "language_info": {
      "name": "python"
    }
  },
  "nbformat": 4,
  "nbformat_minor": 0
}